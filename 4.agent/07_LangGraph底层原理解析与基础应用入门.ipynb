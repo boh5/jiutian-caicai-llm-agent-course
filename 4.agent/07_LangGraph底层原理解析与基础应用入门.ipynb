{
 "cells": [
  {
   "cell_type": "code",
   "execution_count": 1,
   "id": "d00715e2",
   "metadata": {},
   "outputs": [
    {
     "data": {
      "text/plain": [
       "True"
      ]
     },
     "execution_count": 1,
     "metadata": {},
     "output_type": "execute_result"
    }
   ],
   "source": [
    "from dotenv import load_dotenv\n",
    "\n",
    "load_dotenv(override=True)"
   ]
  },
  {
   "cell_type": "code",
   "execution_count": 2,
   "id": "f1958e15",
   "metadata": {},
   "outputs": [],
   "source": [
    "from typing import TypedDict\n",
    "from langgraph.graph import StateGraph\n",
    "\n",
    "\n",
    "class InputState(TypedDict):\n",
    "    question: str\n",
    "\n",
    "\n",
    "class OutputState(TypedDict):\n",
    "    answer: str\n",
    "\n",
    "\n",
    "class OverallState(InputState, OutputState):\n",
    "    pass"
   ]
  },
  {
   "cell_type": "code",
   "execution_count": 3,
   "id": "8fd9144f",
   "metadata": {},
   "outputs": [],
   "source": [
    "builder = StateGraph(OverallState, input_schema=InputState, output_schema=OutputState)"
   ]
  },
  {
   "cell_type": "code",
   "execution_count": 4,
   "id": "8be5d079",
   "metadata": {},
   "outputs": [],
   "source": [
    "def agent_node(state: InputState):\n",
    "    print(\"我是一个 AI Agent\")\n",
    "    return\n",
    "\n",
    "\n",
    "def action_node(state: InputState):\n",
    "    print(\"我是一个 Action\")\n",
    "    return {\"answer\": \"我现在执行成功了\"}"
   ]
  },
  {
   "cell_type": "code",
   "execution_count": 5,
   "id": "78230742",
   "metadata": {},
   "outputs": [],
   "source": [
    "from langgraph.graph import START, END\n",
    "\n",
    "builder.add_node(agent_node)\n",
    "builder.add_node(action_node)\n",
    "\n",
    "builder.add_edge(START, \"agent_node\")\n",
    "builder.add_edge(\"agent_node\", \"action_node\")\n",
    "builder.add_edge(\"action_node\", END)\n",
    "\n",
    "graph = builder.compile()"
   ]
  },
  {
   "cell_type": "code",
   "execution_count": 6,
   "id": "4a4602b3",
   "metadata": {},
   "outputs": [
    {
     "name": "stdout",
     "output_type": "stream",
     "text": [
      "我是一个 AI Agent\n",
      "我是一个 Action\n"
     ]
    },
    {
     "data": {
      "text/plain": [
       "{'answer': '我现在执行成功了'}"
      ]
     },
     "execution_count": 6,
     "metadata": {},
     "output_type": "execute_result"
    }
   ],
   "source": [
    "graph.invoke({\"question\": \"你好\"})"
   ]
  },
  {
   "cell_type": "code",
   "execution_count": 8,
   "id": "290f316f",
   "metadata": {},
   "outputs": [],
   "source": [
    "def agent_node(state: InputState):\n",
    "    print(\"我是一个 AI Agent\")\n",
    "    return {\"question\": state[\"question\"]}\n",
    "\n",
    "\n",
    "def action_node(state: InputState):\n",
    "    print(\"我是一个 Action\")\n",
    "    return {\"answer\": f\"我接收到的问题是：{state['question']}, 读取成功了！\"}\n",
    "\n",
    "\n",
    "builder = StateGraph(OverallState, input_schema=InputState, output_schema=OutputState)\n",
    "\n",
    "builder.add_node(agent_node)\n",
    "builder.add_node(action_node)\n",
    "\n",
    "builder.add_edge(START, \"agent_node\")\n",
    "builder.add_edge(\"agent_node\", \"action_node\")\n",
    "builder.add_edge(\"action_node\", END)\n",
    "\n",
    "graph = builder.compile()"
   ]
  },
  {
   "cell_type": "code",
   "execution_count": 10,
   "id": "2a4529e7",
   "metadata": {},
   "outputs": [
    {
     "name": "stdout",
     "output_type": "stream",
     "text": [
      "我是一个 AI Agent\n",
      "我是一个 Action\n"
     ]
    },
    {
     "data": {
      "text/plain": [
       "{'answer': '我接收到的问题是：你好, 读取成功了！'}"
      ]
     },
     "execution_count": 10,
     "metadata": {},
     "output_type": "execute_result"
    }
   ],
   "source": [
    "graph.invoke({\"question\": \"你好\"})"
   ]
  },
  {
   "cell_type": "code",
   "execution_count": 11,
   "id": "ffd925cf",
   "metadata": {},
   "outputs": [],
   "source": [
    "from langchain_openai.chat_models import ChatOpenAI\n",
    "\n",
    "\n",
    "def llm_node(state: InputState):\n",
    "    messages = [\n",
    "        (\"system\", \"你是一位乐于助人的智能小助理\"),\n",
    "        (\"human\", state[\"question\"]),\n",
    "    ]\n",
    "    llm = ChatOpenAI(model=\"qwen-plus\", temperature=0)\n",
    "\n",
    "    response = llm.invoke(messages)\n",
    "\n",
    "    return {\"answer\": response.content}"
   ]
  },
  {
   "cell_type": "code",
   "execution_count": 12,
   "id": "1278b250",
   "metadata": {},
   "outputs": [],
   "source": [
    "builder = StateGraph(OverallState, input_schema=InputState, output_schema=OutputState)\n",
    "\n",
    "builder.add_node(llm_node)\n",
    "\n",
    "builder.add_edge(START, \"llm_node\")\n",
    "builder.add_edge(\"llm_node\", END)\n",
    "\n",
    "graph = builder.compile()"
   ]
  },
  {
   "cell_type": "code",
   "execution_count": 13,
   "id": "6e458ce5",
   "metadata": {},
   "outputs": [
    {
     "data": {
      "text/plain": [
       "{'answer': '你好呀！测试什么内容呢？😊'}"
      ]
     },
     "execution_count": 13,
     "metadata": {},
     "output_type": "execute_result"
    }
   ],
   "source": [
    "graph.invoke({\"question\": \"你好，我用来测试\"})"
   ]
  },
  {
   "cell_type": "code",
   "execution_count": 14,
   "id": "9ebe9789",
   "metadata": {},
   "outputs": [
    {
     "data": {
      "text/plain": [
       "{'answer': '你好呀！我是Qwen3，是通义千问系列中效果最好的大语言模型 😊 作为你的智能小助理，我可以帮助你做很多事情呢！\\n\\n我可以帮你写故事、写公文、写邮件、写剧本等等，需要创作的时候随时找我哦。如果你需要分析数据或者处理一些信息，我也可以帮你搞定。编程方面我也不赖，写代码、调试、解释代码都能行。\\n\\n我还能表达观点，玩游戏，或者就某个话题展开讨论。如果你需要一个耐心的聊天伙伴，我随时都在。不过要记得，虽然我喜欢聊天，但也要注意合理使用，不要影响到学习和工作哦！\\n\\n说到学习，我可以帮助不同年龄段的学生，从作业辅导到学术写作都能提供帮助。对于职场人士，我也可以提供专业的建议和方案。\\n\\n最重要的是，我会始终遵循安全和伦理准则，确保我们的交流既愉快又有意义。虽然我很强，但我也在不断学习和进步中，有时候可能需要你的理解和耐心。\\n\\n希望我们能成为好朋友！有什么需要帮忙的，尽管告诉我哦！ 🌟'}"
      ]
     },
     "execution_count": 14,
     "metadata": {},
     "output_type": "execute_result"
    }
   ],
   "source": [
    "graph.invoke({\"question\": \"你好，请详细的介绍你自己\"})"
   ]
  },
  {
   "cell_type": "code",
   "execution_count": 15,
   "id": "597a72d1",
   "metadata": {},
   "outputs": [],
   "source": [
    "from typing import TypedDict\n",
    "from langgraph.graph import StateGraph\n",
    "\n",
    "\n",
    "class InputState(TypedDict):\n",
    "    question: str\n",
    "    llm_answer: str | None\n",
    "\n",
    "\n",
    "class OutputState(TypedDict):\n",
    "    answer: str\n",
    "\n",
    "\n",
    "class OverallState(InputState, OutputState):\n",
    "    pass\n",
    "\n",
    "\n",
    "def llm_node(state: InputState):\n",
    "    messages = [\n",
    "        (\"system\", \"你是一位乐于助人的智能小助理\"),\n",
    "        (\"human\", state[\"question\"]),\n",
    "    ]\n",
    "    llm = ChatOpenAI(model=\"qwen-plus\", temperature=0)\n",
    "\n",
    "    response = llm.invoke(messages)\n",
    "\n",
    "    return {\"llm_answer\": response.content}\n",
    "\n",
    "\n",
    "def action_node(state: InputState):\n",
    "    messages = [\n",
    "        (\"system\", \"无论你接收到什么语言的文本，请翻译成法语\"),\n",
    "        (\"human\", state[\"llm_answer\"]),\n",
    "    ]\n",
    "    llm = ChatOpenAI(model=\"qwen-plus\", temperature=0)\n",
    "\n",
    "    response = llm.invoke(messages)\n",
    "\n",
    "    return {\"answer\": response.content}\n",
    "\n",
    "\n",
    "builder = StateGraph(OverallState, input_schema=InputState, output_schema=OutputState)\n",
    "\n",
    "builder.add_node(llm_node)\n",
    "builder.add_node(action_node)\n",
    "\n",
    "builder.add_edge(START, \"llm_node\")\n",
    "builder.add_edge(\"llm_node\", \"action_node\")\n",
    "builder.add_edge(\"action_node\", END)\n",
    "\n",
    "graph = builder.compile()"
   ]
  },
  {
   "cell_type": "code",
   "execution_count": 16,
   "id": "ceea9249",
   "metadata": {},
   "outputs": [
    {
     "name": "stdout",
     "output_type": "stream",
     "text": [
      "Bonjour ! Je suis Qwen3, le modèle phare de la série Tongyi Qianwen, doté de fonctionnalités particulièrement puissantes. En tant que votre petit assistant intelligent, je peux mener avec vous des conversations en plusieurs tours, répondre à vos questions, et vous aider à créer des textes, comme rédiger des histoires, des documents officiels, des courriels, des scénarios, faire des raisonnements logiques ou programmer. Je peux également exprimer des opinions, jouer à des jeux, et même vous aider à traduire du contenu entre plusieurs langues.\n",
      "\n",
      "Ma formation reposant sur des données extrêmement vastes, j'ai acquis des connaissances transversales dans divers domaines ainsi qu'une solide capacité de compréhension linguistique. Que ce soit des questions académiques, des connaissances générales liées à la vie quotidienne ou encore des potins sur le divertissement, je peux discuter avec vous ! De plus, je maîtrise particulièrement bien le chinois, ainsi que plusieurs autres langues.\n",
      "\n",
      "Si vous avez besoin d'aide dans n'importe quel domaine, n'hésitez surtout pas à me le faire savoir ! Je peux aussi bien vous assister dans des sujets professionnels que vous tenir compagnie comme un ami lors de conversations détendues. J'espère sincèrement que nous deviendrons des partenaires complices et efficaces ! (•̀ᴗ•́)و\n"
     ]
    }
   ],
   "source": [
    "final_answer = graph.invoke({\"question\": \"你好，请你详细的介绍一下你自己\"})\n",
    "print(final_answer[\"answer\"])"
   ]
  }
 ],
 "metadata": {
  "kernelspec": {
   "display_name": ".venv",
   "language": "python",
   "name": "python3"
  },
  "language_info": {
   "codemirror_mode": {
    "name": "ipython",
    "version": 3
   },
   "file_extension": ".py",
   "mimetype": "text/x-python",
   "name": "python",
   "nbconvert_exporter": "python",
   "pygments_lexer": "ipython3",
   "version": "3.12.11"
  }
 },
 "nbformat": 4,
 "nbformat_minor": 5
}
