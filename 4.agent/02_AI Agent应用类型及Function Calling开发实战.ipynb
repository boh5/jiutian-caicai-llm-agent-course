{
 "cells": [
  {
   "cell_type": "code",
   "execution_count": 2,
   "id": "8e5dbb90",
   "metadata": {},
   "outputs": [
    {
     "data": {
      "text/plain": [
       "True"
      ]
     },
     "execution_count": 2,
     "metadata": {},
     "output_type": "execute_result"
    }
   ],
   "source": [
    "from dotenv import load_dotenv\n",
    "\n",
    "load_dotenv(override=True)"
   ]
  },
  {
   "cell_type": "code",
   "execution_count": 8,
   "id": "f3658bae",
   "metadata": {},
   "outputs": [],
   "source": [
    "from openai import OpenAI\n",
    "\n",
    "client = OpenAI()\n",
    "\n",
    "response = client.chat.completions.create(\n",
    "    model=\"qwen-turbo\",\n",
    "    messages=[{\"role\": \"user\", \"content\": \"请你详细介绍一下：什么是人工智能？\"}],\n",
    ")"
   ]
  },
  {
   "cell_type": "code",
   "execution_count": 9,
   "id": "da723649",
   "metadata": {},
   "outputs": [
    {
     "data": {
      "text/plain": [
       "ChatCompletionMessage(content='人工智能（Artificial Intelligence，简称AI）是计算机科学的一个分支，旨在开发能够执行通常需要人类智能的任务的系统或机器。这些任务包括学习、推理、问题解决、感知、语言理解和决策等。\\n\\n---\\n\\n## 一、人工智能的定义\\n\\n人工智能是指由人创造的系统或机器所表现出的“智能”行为，这种行为可以模仿或超越人类的某些认知能力。它不一定是具有意识或自我意识的，而是通过算法和数据来模拟智能行为。\\n\\n---\\n\\n## 二、人工智能的核心目标\\n\\n人工智能的目标是让计算机具备以下能力：\\n\\n- **学习**：从数据中自动提取规律和模式。\\n- **推理**：根据已有信息进行逻辑推导。\\n- **问题解决**：在复杂环境中找到最佳解决方案。\\n- **感知**：识别图像、声音、文本等信息。\\n- **自然语言处理**：理解并生成人类语言。\\n- **决策**：在不确定环境下做出合理判断。\\n\\n---\\n\\n## 三、人工智能的主要类型\\n\\n根据智能水平和功能的不同，人工智能可以分为以下几类：\\n\\n### 1. **弱人工智能（Narrow AI / Weak AI）**\\n- 专注于特定任务。\\n- 目前大多数实际应用属于这一类。\\n- 例子：语音助手（如Siri）、图像识别系统、推荐系统（如Netflix、淘宝）、自动驾驶中的某些模块等。\\n\\n### 2. **强人工智能（General AI / Strong AI）**\\n- 能像人类一样思考、学习和解决问题，具备通用智能。\\n- 这种类型的AI目前尚未实现，仍处于理论研究阶段。\\n\\n### 3. **超人工智能（Superintelligence）**\\n- 指智能远超人类的AI系统。\\n- 属于未来可能发展的方向，但目前尚无技术实现。\\n\\n---\\n\\n## 四、人工智能的技术基础\\n\\n人工智能的发展依赖于多个关键技术领域：\\n\\n### 1. **机器学习（Machine Learning, ML）**\\n- 让计算机通过数据“学习”如何完成任务。\\n- 包括监督学习、无监督学习、强化学习等。\\n\\n### 2. **深度学习（Deep Learning）**\\n- 是机器学习的一个子领域，使用多层神经网络来模拟人脑结构。\\n- 在图像识别、语音识别、自然语言处理等领域有广泛应用。\\n\\n### 3. **自然语言处理（Natural Language Processing, NLP）**\\n- 让计算机理解和生成人类语言。\\n- 应用于聊天机器人、翻译系统、情感分析等。\\n\\n### 4. **计算机视觉（Computer Vision）**\\n- 让计算机“看懂”图像和视频。\\n- 应用于人脸识别、自动驾驶、医学影像分析等。\\n\\n### 5. **专家系统（Expert Systems）**\\n- 基于规则的系统，模拟人类专家的知识和经验。\\n- 多用于医疗诊断、法律咨询等专业领域。\\n\\n---\\n\\n## 五、人工智能的应用领域\\n\\n人工智能已经广泛应用于各个行业：\\n\\n| 领域 | 应用举例 |\\n|------|----------|\\n| 医疗 | 疾病诊断、药物研发、个性化治疗 |\\n| 金融 | 风险评估、欺诈检测、智能投顾 |\\n| 制造业 | 工业机器人、质量检测、预测性维护 |\\n| 交通 | 自动驾驶、交通流量优化 |\\n| 教育 | 智能辅导、个性化学习路径 |\\n| 娱乐 | 游戏AI、内容推荐、虚拟角色 |\\n| 安防 | 人脸识别、监控系统、异常行为检测 |\\n\\n---\\n\\n## 六、人工智能的发展历程\\n\\n- **1950年代**：图灵提出“机器能思考吗？”的问题，开启AI研究。\\n- **1960-70年代**：早期AI系统（如ELIZA、MYCIN）出现。\\n- **1980年代**：专家系统兴起。\\n- **1990年代**：机器学习开始发展。\\n- **2000年代后**：大数据、云计算推动AI爆发式增长。\\n- **2010年代至今**：深度学习取得突破，AI进入实用化阶段。\\n\\n---\\n\\n## 七、人工智能的挑战与争议\\n\\n尽管AI带来了巨大的进步，但也面临一些挑战和争议：\\n\\n### 1. **伦理与道德问题**\\n- 如何确保AI的决策公平？\\n- 自动化是否会导致大规模失业？\\n\\n### 2. **隐私与安全问题**\\n- AI依赖大量数据，可能侵犯用户隐私。\\n- 存在被恶意利用的风险（如深度伪造、自动化武器）。\\n\\n### 3. **可解释性问题**\\n- 很多AI模型（如深度神经网络）是“黑箱”，难以解释其决策过程。\\n\\n### 4. **技术滥用**\\n- AI可能被用于操控舆论、制造虚假信息等。\\n\\n---\\n\\n## 八、人工智能的未来展望\\n\\n随着技术的进步，AI将在以下几个方面继续发展：\\n\\n- **更强大的学习能力**：从少量数据中高效学习。\\n- **更自然的人机交互**：如更真实的对话、情感识别。\\n- **更广泛的应用场景**：如农业、能源、环保等。\\n- **更强的自主性**：实现真正的“智能代理”。\\n\\n---\\n\\n## 九、总结\\n\\n人工智能是一种通过算法和数据模拟人类智能行为的技术，涵盖学习、推理、感知、语言处理等多个方面。它已经在医疗、金融、交通等多个领域得到广泛应用，并持续推动社会和技术的发展。然而，AI的发展也伴随着伦理、安全和就业等方面的挑战，需要社会各界共同关注和应对。\\n\\n---\\n\\n如果你对某个具体方向（如深度学习、自然语言处理、AI伦理等）感兴趣，我可以进一步详细讲解。', refusal=None, role='assistant', annotations=None, audio=None, function_call=None, tool_calls=None)"
      ]
     },
     "execution_count": 9,
     "metadata": {},
     "output_type": "execute_result"
    }
   ],
   "source": [
    "response.choices[0].message"
   ]
  },
  {
   "cell_type": "code",
   "execution_count": 4,
   "id": "c888a8d3",
   "metadata": {},
   "outputs": [
    {
     "name": "stdout",
     "output_type": "stream",
     "text": [
      "模型回复：你好，bo！很高兴见到你。有什么我可以帮你的吗？😊\n",
      "模型回复：哈哈，你刚刚说“我是 bo”，所以你的名字就是 **bo** 哦！不过，我猜你可能是在开玩笑或者想测试我的反应？😄 如果你想换个名字，或者告诉我你的真名，我当然也可以用那个来称呼你！你想怎么称呼自己呢？\n"
     ]
    }
   ],
   "source": [
    "from openai import OpenAI\n",
    "\n",
    "client = OpenAI()\n",
    "\n",
    "messages = []\n",
    "\n",
    "while True:\n",
    "    prompt = input(\"\\n 用户提问：\")\n",
    "    if prompt == \"quit\":\n",
    "        break\n",
    "\n",
    "    messages.append({\"role\": \"user\", \"content\": prompt.strip()})\n",
    "    completion = client.chat.completions.create(model=\"qwen-turbo\", messages=messages)\n",
    "    response = completion.choices[0].message.content\n",
    "    print(f\"模型回复：{response}\")\n",
    "\n",
    "    messages.append(\n",
    "        {\n",
    "            \"role\": \"assistant\",\n",
    "            \"content\": response,\n",
    "        }\n",
    "    )"
   ]
  },
  {
   "cell_type": "code",
   "execution_count": 5,
   "id": "bf15ad8b",
   "metadata": {},
   "outputs": [
    {
     "data": {
      "text/plain": [
       "[{'role': 'user', 'content': '你好，我是 bo'},\n",
       " {'role': 'assistant', 'content': '你好，bo！很高兴见到你。有什么我可以帮你的吗？😊'},\n",
       " {'role': 'user', 'content': '我叫什么名字？'},\n",
       " {'role': 'assistant',\n",
       "  'content': '哈哈，你刚刚说“我是 bo”，所以你的名字就是 **bo** 哦！不过，我猜你可能是在开玩笑或者想测试我的反应？😄 如果你想换个名字，或者告诉我你的真名，我当然也可以用那个来称呼你！你想怎么称呼自己呢？'}]"
      ]
     },
     "execution_count": 5,
     "metadata": {},
     "output_type": "execute_result"
    }
   ],
   "source": [
    "messages"
   ]
  },
  {
   "cell_type": "code",
   "execution_count": 6,
   "id": "27767c00",
   "metadata": {},
   "outputs": [
    {
     "data": {
      "text/plain": [
       "[('001',\n",
       "  '足球',\n",
       "  '高品质职业比赛用球，符合国际标准',\n",
       "  '圆形，直径22 cm',\n",
       "  '职业比赛、学校体育课',\n",
       "  '耐克',\n",
       "  120.0,\n",
       "  50),\n",
       " ('002',\n",
       "  '羽毛球拍',\n",
       "  '轻量级，适合初中级选手，提供优秀的击球感受',\n",
       "  '碳纤维材质，重量85 g',\n",
       "  '业余比赛、家庭娱乐',\n",
       "  '尤尼克斯',\n",
       "  300.0,\n",
       "  30),\n",
       " ('003',\n",
       "  '篮球',\n",
       "  '室内外可用，耐磨耐用，适合各种天气条件',\n",
       "  '皮质，标准7号球',\n",
       "  '学校、社区运动场',\n",
       "  '斯伯丁',\n",
       "  200.0,\n",
       "  40),\n",
       " ('004',\n",
       "  '跑步鞋',\n",
       "  '适合长距离跑步，舒适透气，提供良好的足弓支撑',\n",
       "  '多种尺码，透气网布',\n",
       "  '长跑、日常训练',\n",
       "  '阿迪达斯',\n",
       "  500.0,\n",
       "  20),\n",
       " ('005',\n",
       "  '瑜伽垫',\n",
       "  '防滑材料，厚度适中，易于携带和清洗',\n",
       "  '长180cm，宽60cm，厚5mm',\n",
       "  '瑜伽、普拉提',\n",
       "  '曼达卡',\n",
       "  150.0,\n",
       "  25),\n",
       " ('006',\n",
       "  '速干运动衫',\n",
       "  '吸汗快干，适合各种户外运动，持久舒适',\n",
       "  'S/M/L/XL，多色可选',\n",
       "  '运动、徒步、旅游',\n",
       "  '诺斯脸',\n",
       "  180.0,\n",
       "  60),\n",
       " ('007',\n",
       "  '电子计步器',\n",
       "  '精确计步，带心率监测功能，蓝牙连接手机应用',\n",
       "  '可充电，续航7天',\n",
       "  '日常健康管理、运动',\n",
       "  'Fitbit',\n",
       "  250.0,\n",
       "  15),\n",
       " ('008',\n",
       "  '乒乓球拍套装',\n",
       "  '包括两只拍子和三个球，适合家庭娱乐和业余训练',\n",
       "  '标准尺寸，拍面防滑处理',\n",
       "  '家庭、社区',\n",
       "  '双鱼',\n",
       "  160.0,\n",
       "  35),\n",
       " ('009',\n",
       "  '健身手套',\n",
       "  '抗滑耐磨，保护手部，适合各种健身活动',\n",
       "  '多种尺码，通风设计',\n",
       "  '健身房、户外运动',\n",
       "  'Under Armour',\n",
       "  120.0,\n",
       "  50),\n",
       " ('010',\n",
       "  '膝盖护具',\n",
       "  '减少运动伤害，提供良好的支撑和保护，适合篮球和足球运动',\n",
       "  '弹性织物，可调节紧度',\n",
       "  '篮球、足球及其他运动',\n",
       "  '麦克戴维',\n",
       "  220.0,\n",
       "  40)]"
      ]
     },
     "execution_count": 6,
     "metadata": {},
     "output_type": "execute_result"
    }
   ],
   "source": [
    "import sqlite3\n",
    "\n",
    "\n",
    "def create_and_populate_database():\n",
    "    # 连接到本地数据库文件\n",
    "    conn = sqlite3.connect(\"SportsEquipment.db\")  # 指定文件名来保存数据库\n",
    "    cursor = conn.cursor()\n",
    "\n",
    "    # 检查是否存在名为 'products' 的表，如果不存在则创建\n",
    "    cursor.execute(\n",
    "        \"SELECT name FROM sqlite_master WHERE type='table' AND name='products';\"\n",
    "    )\n",
    "    if cursor.fetchone() is None:\n",
    "        # 创建表\n",
    "        cursor.execute(\"\"\"\n",
    "        CREATE TABLE products (\n",
    "            product_id TEXT,\n",
    "            product_name TEXT,\n",
    "            description TEXT,\n",
    "            specifications TEXT,\n",
    "            usage TEXT,\n",
    "            brand TEXT,\n",
    "            price REAL,\n",
    "            stock_quantity INTEGER\n",
    "        )\n",
    "        \"\"\")\n",
    "        # 数据列表，用于插入表中\n",
    "        products = [\n",
    "            (\n",
    "                \"001\",\n",
    "                \"足球\",\n",
    "                \"高品质职业比赛用球，符合国际标准\",\n",
    "                \"圆形，直径22 cm\",\n",
    "                \"职业比赛、学校体育课\",\n",
    "                \"耐克\",\n",
    "                120,\n",
    "                50,\n",
    "            ),\n",
    "            (\n",
    "                \"002\",\n",
    "                \"羽毛球拍\",\n",
    "                \"轻量级，适合初中级选手，提供优秀的击球感受\",\n",
    "                \"碳纤维材质，重量85 g\",\n",
    "                \"业余比赛、家庭娱乐\",\n",
    "                \"尤尼克斯\",\n",
    "                300,\n",
    "                30,\n",
    "            ),\n",
    "            (\n",
    "                \"003\",\n",
    "                \"篮球\",\n",
    "                \"室内外可用，耐磨耐用，适合各种天气条件\",\n",
    "                \"皮质，标准7号球\",\n",
    "                \"学校、社区运动场\",\n",
    "                \"斯伯丁\",\n",
    "                200,\n",
    "                40,\n",
    "            ),\n",
    "            (\n",
    "                \"004\",\n",
    "                \"跑步鞋\",\n",
    "                \"适合长距离跑步，舒适透气，提供良好的足弓支撑\",\n",
    "                \"多种尺码，透气网布\",\n",
    "                \"长跑、日常训练\",\n",
    "                \"阿迪达斯\",\n",
    "                500,\n",
    "                20,\n",
    "            ),\n",
    "            (\n",
    "                \"005\",\n",
    "                \"瑜伽垫\",\n",
    "                \"防滑材料，厚度适中，易于携带和清洗\",\n",
    "                \"长180cm，宽60cm，厚5mm\",\n",
    "                \"瑜伽、普拉提\",\n",
    "                \"曼达卡\",\n",
    "                150,\n",
    "                25,\n",
    "            ),\n",
    "            (\n",
    "                \"006\",\n",
    "                \"速干运动衫\",\n",
    "                \"吸汗快干，适合各种户外运动，持久舒适\",\n",
    "                \"S/M/L/XL，多色可选\",\n",
    "                \"运动、徒步、旅游\",\n",
    "                \"诺斯脸\",\n",
    "                180,\n",
    "                60,\n",
    "            ),\n",
    "            (\n",
    "                \"007\",\n",
    "                \"电子计步器\",\n",
    "                \"精确计步，带心率监测功能，蓝牙连接手机应用\",\n",
    "                \"可充电，续航7天\",\n",
    "                \"日常健康管理、运动\",\n",
    "                \"Fitbit\",\n",
    "                250,\n",
    "                15,\n",
    "            ),\n",
    "            (\n",
    "                \"008\",\n",
    "                \"乒乓球拍套装\",\n",
    "                \"包括两只拍子和三个球，适合家庭娱乐和业余训练\",\n",
    "                \"标准尺寸，拍面防滑处理\",\n",
    "                \"家庭、社区\",\n",
    "                \"双鱼\",\n",
    "                160,\n",
    "                35,\n",
    "            ),\n",
    "            (\n",
    "                \"009\",\n",
    "                \"健身手套\",\n",
    "                \"抗滑耐磨，保护手部，适合各种健身活动\",\n",
    "                \"多种尺码，通风设计\",\n",
    "                \"健身房、户外运动\",\n",
    "                \"Under Armour\",\n",
    "                120,\n",
    "                50,\n",
    "            ),\n",
    "            (\n",
    "                \"010\",\n",
    "                \"膝盖护具\",\n",
    "                \"减少运动伤害，提供良好的支撑和保护，适合篮球和足球运动\",\n",
    "                \"弹性织物，可调节紧度\",\n",
    "                \"篮球、足球及其他运动\",\n",
    "                \"麦克戴维\",\n",
    "                220,\n",
    "                40,\n",
    "            ),\n",
    "        ]\n",
    "\n",
    "        # 插入数据到表中\n",
    "        cursor.executemany(\n",
    "            \"\"\"\n",
    "        INSERT INTO products (product_id, product_name, description, specifications, usage, brand, price, stock_quantity)\n",
    "        VALUES (?, ?, ?, ?, ?, ?, ?, ?)\n",
    "        \"\"\",\n",
    "            products,\n",
    "        )\n",
    "\n",
    "        # 提交更改以确保数据被保存在文件中\n",
    "        conn.commit()\n",
    "\n",
    "    # 检索并打印所有记录以验证插入\n",
    "    cursor.execute(\"SELECT * FROM products\")\n",
    "    all_rows = cursor.fetchall()\n",
    "\n",
    "    conn.close()  # 关闭连接以释放资源\n",
    "\n",
    "    return all_rows\n",
    "\n",
    "\n",
    "# 执行函数并打印结果\n",
    "create_and_populate_database()"
   ]
  },
  {
   "cell_type": "code",
   "execution_count": 9,
   "id": "f269f741",
   "metadata": {},
   "outputs": [],
   "source": [
    "def query_by_product_name(product_name):\n",
    "    conn = sqlite3.connect(\"SportsEquipment.db\")\n",
    "    cursor = conn.cursor()\n",
    "\n",
    "    cursor.execute(\n",
    "        \"SELECT * FROM products WHERE product_name LIKE ?\", (f\"%{product_name}%\",)\n",
    "    )\n",
    "\n",
    "    rows = cursor.fetchall()\n",
    "\n",
    "    conn.close()\n",
    "\n",
    "    return rows"
   ]
  },
  {
   "cell_type": "code",
   "execution_count": 10,
   "id": "0ecd93f0",
   "metadata": {},
   "outputs": [
    {
     "data": {
      "text/plain": [
       "[('001',\n",
       "  '足球',\n",
       "  '高品质职业比赛用球，符合国际标准',\n",
       "  '圆形，直径22 cm',\n",
       "  '职业比赛、学校体育课',\n",
       "  '耐克',\n",
       "  120.0,\n",
       "  50),\n",
       " ('002',\n",
       "  '羽毛球拍',\n",
       "  '轻量级，适合初中级选手，提供优秀的击球感受',\n",
       "  '碳纤维材质，重量85 g',\n",
       "  '业余比赛、家庭娱乐',\n",
       "  '尤尼克斯',\n",
       "  300.0,\n",
       "  30),\n",
       " ('003',\n",
       "  '篮球',\n",
       "  '室内外可用，耐磨耐用，适合各种天气条件',\n",
       "  '皮质，标准7号球',\n",
       "  '学校、社区运动场',\n",
       "  '斯伯丁',\n",
       "  200.0,\n",
       "  40),\n",
       " ('008',\n",
       "  '乒乓球拍套装',\n",
       "  '包括两只拍子和三个球，适合家庭娱乐和业余训练',\n",
       "  '标准尺寸，拍面防滑处理',\n",
       "  '家庭、社区',\n",
       "  '双鱼',\n",
       "  160.0,\n",
       "  35)]"
      ]
     },
     "execution_count": 10,
     "metadata": {},
     "output_type": "execute_result"
    }
   ],
   "source": [
    "query_by_product_name(\"球\")"
   ]
  },
  {
   "cell_type": "code",
   "execution_count": 13,
   "id": "ee215c3a",
   "metadata": {},
   "outputs": [],
   "source": [
    "tools = [\n",
    "    {\n",
    "        \"type\": \"function\",\n",
    "        \"function\": {\n",
    "            \"name\": \"query_by_product_name\",\n",
    "            \"description\": \"Query the database to retrieve a list of products that match or contain the specified product name. This function can be used to assist customers in finding products by name via an online platform or customer support interface.\",\n",
    "            \"parameters\": {\n",
    "                \"type\": \"object\",\n",
    "                \"properties\": {\n",
    "                    \"product_name\": {\n",
    "                        \"type\": \"string\",\n",
    "                        \"description\": \"The name of the product to search for. The search is case-insensitive and allows partial matches.\",\n",
    "                    }\n",
    "                },\n",
    "                \"required\": [\"product_name\"],\n",
    "            },\n",
    "        },\n",
    "    }\n",
    "]"
   ]
  },
  {
   "cell_type": "code",
   "execution_count": 18,
   "id": "a404884b",
   "metadata": {},
   "outputs": [
    {
     "data": {
      "text/plain": [
       "ChatCompletion(id='chatcmpl-7769d03f-5a52-96fd-a818-e80fcd290a01', choices=[Choice(finish_reason='tool_calls', index=0, logprobs=None, message=ChatCompletionMessage(content='', refusal=None, role='assistant', annotations=None, audio=None, function_call=None, tool_calls=[ChatCompletionMessageToolCall(id='call_3c15dc4c33924dd3a7fdb6', function=Function(arguments='{\"product_name\": \"球\"}', name='query_by_product_name'), type='function', index=0)]))], created=1753173198, model='qwen-plus', object='chat.completion', service_tier=None, system_fingerprint=None, usage=CompletionUsage(completion_tokens=22, prompt_tokens=217, total_tokens=239, completion_tokens_details=None, prompt_tokens_details=PromptTokensDetails(audio_tokens=None, cached_tokens=0)))"
      ]
     },
     "execution_count": 18,
     "metadata": {},
     "output_type": "execute_result"
    }
   ],
   "source": [
    "from openai import OpenAI\n",
    "\n",
    "client = OpenAI()\n",
    "\n",
    "messages = [{\"role\": \"user\", \"content\": \"你们家卖什么球？\"}]\n",
    "\n",
    "response = client.chat.completions.create(\n",
    "    model=\"qwen-plus\",\n",
    "    messages=messages,\n",
    "    tools=tools,\n",
    ")\n",
    "\n",
    "response"
   ]
  },
  {
   "cell_type": "code",
   "execution_count": 19,
   "id": "80f8f4dc",
   "metadata": {},
   "outputs": [
    {
     "data": {
      "text/plain": [
       "ChatCompletionMessageToolCall(id='call_3c15dc4c33924dd3a7fdb6', function=Function(arguments='{\"product_name\": \"球\"}', name='query_by_product_name'), type='function', index=0)"
      ]
     },
     "execution_count": 19,
     "metadata": {},
     "output_type": "execute_result"
    }
   ],
   "source": [
    "tool_call = response.choices[0].message.tool_calls[0]\n",
    "tool_call"
   ]
  },
  {
   "cell_type": "code",
   "execution_count": 21,
   "id": "96426938",
   "metadata": {},
   "outputs": [
    {
     "data": {
      "text/plain": [
       "[('001',\n",
       "  '足球',\n",
       "  '高品质职业比赛用球，符合国际标准',\n",
       "  '圆形，直径22 cm',\n",
       "  '职业比赛、学校体育课',\n",
       "  '耐克',\n",
       "  120.0,\n",
       "  50),\n",
       " ('002',\n",
       "  '羽毛球拍',\n",
       "  '轻量级，适合初中级选手，提供优秀的击球感受',\n",
       "  '碳纤维材质，重量85 g',\n",
       "  '业余比赛、家庭娱乐',\n",
       "  '尤尼克斯',\n",
       "  300.0,\n",
       "  30),\n",
       " ('003',\n",
       "  '篮球',\n",
       "  '室内外可用，耐磨耐用，适合各种天气条件',\n",
       "  '皮质，标准7号球',\n",
       "  '学校、社区运动场',\n",
       "  '斯伯丁',\n",
       "  200.0,\n",
       "  40),\n",
       " ('008',\n",
       "  '乒乓球拍套装',\n",
       "  '包括两只拍子和三个球，适合家庭娱乐和业余训练',\n",
       "  '标准尺寸，拍面防滑处理',\n",
       "  '家庭、社区',\n",
       "  '双鱼',\n",
       "  160.0,\n",
       "  35)]"
      ]
     },
     "execution_count": 21,
     "metadata": {},
     "output_type": "execute_result"
    }
   ],
   "source": [
    "import json\n",
    "\n",
    "product_name = json.loads(tool_call.function.arguments).get(\"product_name\")\n",
    "\n",
    "final_res = query_by_product_name(product_name)\n",
    "final_res"
   ]
  },
  {
   "cell_type": "code",
   "execution_count": 23,
   "id": "4a073a12",
   "metadata": {},
   "outputs": [
    {
     "data": {
      "text/plain": [
       "'{\"product_name\": \"球\", \"query_by_product_name\": [[\"001\", \"足球\", \"高品质职业比赛用球，符合国际标准\", \"圆形，直径22 cm\", \"职业比赛、学校体育课\", \"耐克\", 120.0, 50], [\"002\", \"羽毛球拍\", \"轻量级，适合初中级选手，提供优秀的击球感受\", \"碳纤维材质，重量85 g\", \"业余比赛、家庭娱乐\", \"尤尼克斯\", 300.0, 30], [\"003\", \"篮球\", \"室内外可用，耐磨耐用，适合各种天气条件\", \"皮质，标准7号球\", \"学校、社区运动场\", \"斯伯丁\", 200.0, 40], [\"008\", \"乒乓球拍套装\", \"包括两只拍子和三个球，适合家庭娱乐和业余训练\", \"标准尺寸，拍面防滑处理\", \"家庭、社区\", \"双鱼\", 160.0, 35]]}'"
      ]
     },
     "execution_count": 23,
     "metadata": {},
     "output_type": "execute_result"
    }
   ],
   "source": [
    "content = json.dumps(\n",
    "    {\"product_name\": product_name, \"query_by_product_name\": final_res},\n",
    "    ensure_ascii=False,\n",
    ")\n",
    "\n",
    "content"
   ]
  },
  {
   "cell_type": "code",
   "execution_count": 25,
   "id": "8897b9fa",
   "metadata": {},
   "outputs": [
    {
     "data": {
      "text/plain": [
       "'call_3c15dc4c33924dd3a7fdb6'"
      ]
     },
     "execution_count": 25,
     "metadata": {},
     "output_type": "execute_result"
    }
   ],
   "source": [
    "tool_id = response.choices[0].message.tool_calls[0].id\n",
    "tool_id"
   ]
  },
  {
   "cell_type": "code",
   "execution_count": 26,
   "id": "d311dcdf",
   "metadata": {},
   "outputs": [
    {
     "data": {
      "text/plain": [
       "{'role': 'tool',\n",
       " 'content': '{\"product_name\": \"球\", \"query_by_product_name\": [[\"001\", \"足球\", \"高品质职业比赛用球，符合国际标准\", \"圆形，直径22 cm\", \"职业比赛、学校体育课\", \"耐克\", 120.0, 50], [\"002\", \"羽毛球拍\", \"轻量级，适合初中级选手，提供优秀的击球感受\", \"碳纤维材质，重量85 g\", \"业余比赛、家庭娱乐\", \"尤尼克斯\", 300.0, 30], [\"003\", \"篮球\", \"室内外可用，耐磨耐用，适合各种天气条件\", \"皮质，标准7号球\", \"学校、社区运动场\", \"斯伯丁\", 200.0, 40], [\"008\", \"乒乓球拍套装\", \"包括两只拍子和三个球，适合家庭娱乐和业余训练\", \"标准尺寸，拍面防滑处理\", \"家庭、社区\", \"双鱼\", 160.0, 35]]}',\n",
       " 'tool_call_id': 'call_3c15dc4c33924dd3a7fdb6'}"
      ]
     },
     "execution_count": 26,
     "metadata": {},
     "output_type": "execute_result"
    }
   ],
   "source": [
    "function_call_result_message = {\n",
    "    \"role\": \"tool\",\n",
    "    \"content\": content,\n",
    "    \"tool_call_id\": tool_id,\n",
    "}\n",
    "\n",
    "function_call_result_message"
   ]
  },
  {
   "cell_type": "code",
   "execution_count": 27,
   "id": "2ed71ea3",
   "metadata": {},
   "outputs": [
    {
     "data": {
      "text/plain": [
       "ChatCompletionMessage(content='', refusal=None, role='assistant', annotations=None, audio=None, function_call=None, tool_calls=[ChatCompletionMessageToolCall(id='call_3c15dc4c33924dd3a7fdb6', function=Function(arguments='{\"product_name\": \"球\"}', name='query_by_product_name'), type='function', index=0)])"
      ]
     },
     "execution_count": 27,
     "metadata": {},
     "output_type": "execute_result"
    }
   ],
   "source": [
    "response.choices[0].message"
   ]
  },
  {
   "cell_type": "code",
   "execution_count": 28,
   "id": "3c3f03f9",
   "metadata": {},
   "outputs": [
    {
     "data": {
      "text/plain": [
       "[{'role': 'user', 'content': '你们家卖什么球？'},\n",
       " ChatCompletionMessage(content='', refusal=None, role='assistant', annotations=None, audio=None, function_call=None, tool_calls=[ChatCompletionMessageToolCall(id='call_3c15dc4c33924dd3a7fdb6', function=Function(arguments='{\"product_name\": \"球\"}', name='query_by_product_name'), type='function', index=0)]),\n",
       " {'role': 'tool',\n",
       "  'content': '{\"product_name\": \"球\", \"query_by_product_name\": [[\"001\", \"足球\", \"高品质职业比赛用球，符合国际标准\", \"圆形，直径22 cm\", \"职业比赛、学校体育课\", \"耐克\", 120.0, 50], [\"002\", \"羽毛球拍\", \"轻量级，适合初中级选手，提供优秀的击球感受\", \"碳纤维材质，重量85 g\", \"业余比赛、家庭娱乐\", \"尤尼克斯\", 300.0, 30], [\"003\", \"篮球\", \"室内外可用，耐磨耐用，适合各种天气条件\", \"皮质，标准7号球\", \"学校、社区运动场\", \"斯伯丁\", 200.0, 40], [\"008\", \"乒乓球拍套装\", \"包括两只拍子和三个球，适合家庭娱乐和业余训练\", \"标准尺寸，拍面防滑处理\", \"家庭、社区\", \"双鱼\", 160.0, 35]]}',\n",
       "  'tool_call_id': 'call_3c15dc4c33924dd3a7fdb6'}]"
      ]
     },
     "execution_count": 28,
     "metadata": {},
     "output_type": "execute_result"
    }
   ],
   "source": [
    "messages = [\n",
    "    {\"role\": \"user\", \"content\": \"你们家卖什么球？\"},\n",
    "    response.choices[0].message,  # tool call 的 message 一样要传递回去\n",
    "    function_call_result_message,\n",
    "]\n",
    "\n",
    "messages"
   ]
  },
  {
   "cell_type": "code",
   "execution_count": 29,
   "id": "c2ca5752",
   "metadata": {},
   "outputs": [
    {
     "data": {
      "text/plain": [
       "ChatCompletion(id='chatcmpl-4927e4d7-b16a-9800-8028-516a4286a912', choices=[Choice(finish_reason='stop', index=0, logprobs=None, message=ChatCompletionMessage(content='我们店铺目前有以下几种球类及相关产品：\\n\\n1. **足球**\\n   - 编号：001\\n   - 特点：高品质职业比赛用球，符合国际标准\\n   - 规格：圆形，直径22厘米\\n   - 适用场景：职业比赛、学校体育课\\n   - 品牌：耐克\\n   - 价格：120元\\n   - 库存：50个\\n\\n2. **羽毛球拍**\\n   - 编号：002\\n   - 特点：轻量级，适合初中级选手，提供优秀的击球感受\\n   - 规格：碳纤维材质，重量85克\\n   - 适用场景：业余比赛、家庭娱乐\\n   - 品牌：尤尼克斯\\n   - 价格：300元\\n   - 库存：30个\\n\\n3. **篮球**\\n   - 编号：003\\n   - 特点：室内外可用，耐磨耐用，适合各种天气条件\\n   - 规格：皮质，标准7号球\\n   - 适用场景：学校、社区运动场\\n   - 品牌：斯伯丁\\n   - 价格：200元\\n   - 库存：40个\\n\\n4. **乒乓球拍套装**\\n   - 编号：008\\n   - 特点：包括两只拍子和三个球，适合家庭娱乐和业余训练\\n   - 规格：标准尺寸，拍面防滑处理\\n   - 适用场景：家庭、社区\\n   - 品牌：双鱼\\n   - 价格：160元\\n   - 库存：35套\\n\\n如果您对某一种产品感兴趣，我可以为您提供更多详细信息！', refusal=None, role='assistant', annotations=None, audio=None, function_call=None, tool_calls=None))], created=1753173596, model='qwen-plus', object='chat.completion', service_tier=None, system_fingerprint=None, usage=CompletionUsage(completion_tokens=389, prompt_tokens=284, total_tokens=673, completion_tokens_details=None, prompt_tokens_details=PromptTokensDetails(audio_tokens=None, cached_tokens=0)))"
      ]
     },
     "execution_count": 29,
     "metadata": {},
     "output_type": "execute_result"
    }
   ],
   "source": [
    "response = client.chat.completions.create(\n",
    "    model=\"qwen-plus\",\n",
    "    messages=messages,\n",
    ")\n",
    "\n",
    "response"
   ]
  },
  {
   "cell_type": "code",
   "execution_count": 31,
   "id": "67c32f66",
   "metadata": {},
   "outputs": [
    {
     "name": "stdout",
     "output_type": "stream",
     "text": [
      "我们店铺目前有以下几种球类及相关产品：\n",
      "\n",
      "1. **足球**\n",
      "   - 编号：001\n",
      "   - 特点：高品质职业比赛用球，符合国际标准\n",
      "   - 规格：圆形，直径22厘米\n",
      "   - 适用场景：职业比赛、学校体育课\n",
      "   - 品牌：耐克\n",
      "   - 价格：120元\n",
      "   - 库存：50个\n",
      "\n",
      "2. **羽毛球拍**\n",
      "   - 编号：002\n",
      "   - 特点：轻量级，适合初中级选手，提供优秀的击球感受\n",
      "   - 规格：碳纤维材质，重量85克\n",
      "   - 适用场景：业余比赛、家庭娱乐\n",
      "   - 品牌：尤尼克斯\n",
      "   - 价格：300元\n",
      "   - 库存：30个\n",
      "\n",
      "3. **篮球**\n",
      "   - 编号：003\n",
      "   - 特点：室内外可用，耐磨耐用，适合各种天气条件\n",
      "   - 规格：皮质，标准7号球\n",
      "   - 适用场景：学校、社区运动场\n",
      "   - 品牌：斯伯丁\n",
      "   - 价格：200元\n",
      "   - 库存：40个\n",
      "\n",
      "4. **乒乓球拍套装**\n",
      "   - 编号：008\n",
      "   - 特点：包括两只拍子和三个球，适合家庭娱乐和业余训练\n",
      "   - 规格：标准尺寸，拍面防滑处理\n",
      "   - 适用场景：家庭、社区\n",
      "   - 品牌：双鱼\n",
      "   - 价格：160元\n",
      "   - 库存：35套\n",
      "\n",
      "如果您对某一种产品感兴趣，我可以为您提供更多详细信息！\n"
     ]
    }
   ],
   "source": [
    "print(response.choices[0].message.content)"
   ]
  },
  {
   "cell_type": "code",
   "execution_count": 34,
   "id": "3aec2466",
   "metadata": {},
   "outputs": [
    {
     "data": {
      "text/plain": [
       "[('001',\n",
       "  '足球',\n",
       "  '高品质职业比赛用球，符合国际标准',\n",
       "  '圆形，直径22 cm',\n",
       "  '职业比赛、学校体育课',\n",
       "  '耐克',\n",
       "  120.0,\n",
       "  50),\n",
       " ('002',\n",
       "  '羽毛球拍',\n",
       "  '轻量级，适合初中级选手，提供优秀的击球感受',\n",
       "  '碳纤维材质，重量85 g',\n",
       "  '业余比赛、家庭娱乐',\n",
       "  '尤尼克斯',\n",
       "  300.0,\n",
       "  30),\n",
       " ('003',\n",
       "  '篮球',\n",
       "  '室内外可用，耐磨耐用，适合各种天气条件',\n",
       "  '皮质，标准7号球',\n",
       "  '学校、社区运动场',\n",
       "  '斯伯丁',\n",
       "  200.0,\n",
       "  40),\n",
       " ('008',\n",
       "  '乒乓球拍套装',\n",
       "  '包括两只拍子和三个球，适合家庭娱乐和业余训练',\n",
       "  '标准尺寸，拍面防滑处理',\n",
       "  '家庭、社区',\n",
       "  '双鱼',\n",
       "  160.0,\n",
       "  35)]"
      ]
     },
     "execution_count": 34,
     "metadata": {},
     "output_type": "execute_result"
    }
   ],
   "source": [
    "functions = {\"query_by_product_name\": query_by_product_name}\n",
    "\n",
    "messages = [{\"role\": \"user\", \"content\": \"你们家卖什么球？\"}]\n",
    "\n",
    "response = client.chat.completions.create(\n",
    "    model=\"qwen-plus\",\n",
    "    messages=messages,\n",
    "    tools=tools,\n",
    ")\n",
    "\n",
    "function_call = response.choices[0].message.tool_calls[0]\n",
    "\n",
    "function_name = function_call.function.name\n",
    "\n",
    "function_args = json.loads(function_call.function.arguments)\n",
    "\n",
    "function_to_call = functions[function_name]\n",
    "\n",
    "function_response = function_to_call(**function_args)\n",
    "\n",
    "function_response"
   ]
  },
  {
   "cell_type": "markdown",
   "id": "83b8e7b7",
   "metadata": {},
   "source": [
    "## 整合代码\n",
    "\n",
    "> 支持 tools 并行调用"
   ]
  },
  {
   "cell_type": "code",
   "execution_count": 50,
   "id": "6f3c0069",
   "metadata": {},
   "outputs": [
    {
     "name": "stdout",
     "output_type": "stream",
     "text": [
      "will call 3 functions\n",
      "calling function: query_by_product_name, kwargs: {'product_name': '球'} ...\n",
      "calling function done!\n",
      "calling function: query_by_product_name, kwargs: {'product_name': '衣服'} ...\n",
      "calling function done!\n",
      "calling function: query_by_product_name, kwargs: {'product_name': '鞋'} ...\n",
      "calling function done!\n",
      "机器人回答：我们售卖以下产品：\n",
      "\n",
      "### 球类：\n",
      "1. **足球**  \n",
      "   - 描述：高品质职业比赛用球，符合国际标准  \n",
      "   - 特点：圆形，直径22 cm，适用于职业比赛和学校体育课  \n",
      "   - 品牌：耐克  \n",
      "   - 价格：120元  \n",
      "   - 库存：50个  \n",
      "\n",
      "2. **羽毛球拍**  \n",
      "   - 描述：轻量级，适合初中级选手，提供优秀的击球感受  \n",
      "   - 特点：碳纤维材质，重量85 g，适用于业余比赛和家庭娱乐  \n",
      "   - 品牌：尤尼克斯  \n",
      "   - 价格：300元  \n",
      "   - 库存：30个  \n",
      "\n",
      "3. **篮球**  \n",
      "   - 描述：室内外可用，耐磨耐用，适合各种天气条件  \n",
      "   - 特点：皮质，标准7号球，适用于学校和社区运动场  \n",
      "   - 品牌：斯伯丁  \n",
      "   - 价格：200元  \n",
      "   - 库存：40个  \n",
      "\n",
      "4. **乒乓球拍套装**  \n",
      "   - 描述：包括两只拍子和三个球，适合家庭娱乐和业余训练  \n",
      "   - 特点：标准尺寸，拍面防滑处理，适用于家庭和社区  \n",
      "   - 品牌：双鱼  \n",
      "   - 价格：160元  \n",
      "   - 库存：35套  \n",
      "\n",
      "---\n",
      "\n",
      "### 鞋类：\n",
      "1. **跑步鞋**  \n",
      "   - 描述：适合长距离跑步，舒适透气，提供良好的足弓支撑  \n",
      "   - 特点：多种尺码，透气网布，适用于长跑和日常训练  \n",
      "   - 品牌：阿迪达斯  \n",
      "   - 价格：500元  \n",
      "   - 库存：20双  \n",
      "\n",
      "---\n",
      "\n",
      "### 衣服类：\n",
      "目前暂无衣服相关产品库存。\n",
      "\n",
      "如果您对上述产品感兴趣，可以提供更具体的需求，我会为您提供更多信息！\n",
      "will call 1 functions\n",
      "calling function: query_by_product_name, kwargs: {'product_name': '计步器'} ...\n",
      "calling function done!\n",
      "机器人回答：我们有以下计步器产品：\n",
      "\n",
      "### 电子计步器  \n",
      "- 描述：精确计步，带心率监测功能，支持蓝牙连接手机应用  \n",
      "- 特点：可充电设计，续航时间长达7天，适用于日常健康管理和运动  \n",
      "- 品牌：Fitbit  \n",
      "- 价格：250元  \n",
      "- 库存：15个  \n",
      "\n",
      "如果您需要购买或了解更多信息，可以告诉我，我会为您提供进一步帮助！\n",
      "====================\n",
      "messages: [{'role': 'user', 'content': '你们卖什么球、衣服和鞋？'}, ChatCompletionMessage(content='', refusal=None, role='assistant', annotations=None, audio=None, function_call=None, tool_calls=[ChatCompletionMessageToolCall(id='call_f0817f6cba4d4f009a36e1', function=Function(arguments='{\"product_name\": \"球\"}', name='query_by_product_name'), type='function', index=0), ChatCompletionMessageToolCall(id='call_1c776e9e4d3f47ca93e338', function=Function(arguments='{\"product_name\": \"衣服\"}', name='query_by_product_name'), type='function', index=1), ChatCompletionMessageToolCall(id='call_856cb54e6f1d462285d65b', function=Function(arguments='{\"product_name\": \"鞋\"}', name='query_by_product_name'), type='function', index=2)]), {'role': 'tool', 'content': \"[('001', '足球', '高品质职业比赛用球，符合国际标准', '圆形，直径22 cm', '职业比赛、学校体育课', '耐克', 120.0, 50), ('002', '羽毛球拍', '轻量级，适合初中级选手，提供优秀的击球感受', '碳纤维材质，重量85 g', '业余比赛、家庭娱乐', '尤尼克斯', 300.0, 30), ('003', '篮球', '室内外可用，耐磨耐用，适合各种天气条件', '皮质，标准7号球', '学校、社区运动场', '斯伯丁', 200.0, 40), ('008', '乒乓球拍套装', '包括两只拍子和三个球，适合家庭娱乐和业余训练', '标准尺寸，拍面防滑处理', '家庭、社区', '双鱼', 160.0, 35)]\", 'tool_call_id': 'call_f0817f6cba4d4f009a36e1'}, {'role': 'tool', 'content': '[]', 'tool_call_id': 'call_1c776e9e4d3f47ca93e338'}, {'role': 'tool', 'content': \"[('004', '跑步鞋', '适合长距离跑步，舒适透气，提供良好的足弓支撑', '多种尺码，透气网布', '长跑、日常训练', '阿迪达斯', 500.0, 20)]\", 'tool_call_id': 'call_856cb54e6f1d462285d65b'}, ChatCompletionMessage(content='我们售卖以下产品：\\n\\n### 球类：\\n1. **足球**  \\n   - 描述：高品质职业比赛用球，符合国际标准  \\n   - 特点：圆形，直径22 cm，适用于职业比赛和学校体育课  \\n   - 品牌：耐克  \\n   - 价格：120元  \\n   - 库存：50个  \\n\\n2. **羽毛球拍**  \\n   - 描述：轻量级，适合初中级选手，提供优秀的击球感受  \\n   - 特点：碳纤维材质，重量85 g，适用于业余比赛和家庭娱乐  \\n   - 品牌：尤尼克斯  \\n   - 价格：300元  \\n   - 库存：30个  \\n\\n3. **篮球**  \\n   - 描述：室内外可用，耐磨耐用，适合各种天气条件  \\n   - 特点：皮质，标准7号球，适用于学校和社区运动场  \\n   - 品牌：斯伯丁  \\n   - 价格：200元  \\n   - 库存：40个  \\n\\n4. **乒乓球拍套装**  \\n   - 描述：包括两只拍子和三个球，适合家庭娱乐和业余训练  \\n   - 特点：标准尺寸，拍面防滑处理，适用于家庭和社区  \\n   - 品牌：双鱼  \\n   - 价格：160元  \\n   - 库存：35套  \\n\\n---\\n\\n### 鞋类：\\n1. **跑步鞋**  \\n   - 描述：适合长距离跑步，舒适透气，提供良好的足弓支撑  \\n   - 特点：多种尺码，透气网布，适用于长跑和日常训练  \\n   - 品牌：阿迪达斯  \\n   - 价格：500元  \\n   - 库存：20双  \\n\\n---\\n\\n### 衣服类：\\n目前暂无衣服相关产品库存。\\n\\n如果您对上述产品感兴趣，可以提供更具体的需求，我会为您提供更多信息！', refusal=None, role='assistant', annotations=None, audio=None, function_call=None, tool_calls=None), {'role': 'user', 'content': '有计步器吗？'}, ChatCompletionMessage(content='', refusal=None, role='assistant', annotations=None, audio=None, function_call=None, tool_calls=[ChatCompletionMessageToolCall(id='call_4e1a461445be461fb2f203', function=Function(arguments='{\"product_name\": \"计步器\"}', name='query_by_product_name'), type='function', index=0)]), {'role': 'tool', 'content': \"[('007', '电子计步器', '精确计步，带心率监测功能，蓝牙连接手机应用', '可充电，续航7天', '日常健康管理、运动', 'Fitbit', 250.0, 15)]\", 'tool_call_id': 'call_4e1a461445be461fb2f203'}, ChatCompletionMessage(content='我们有以下计步器产品：\\n\\n### 电子计步器  \\n- 描述：精确计步，带心率监测功能，支持蓝牙连接手机应用  \\n- 特点：可充电设计，续航时间长达7天，适用于日常健康管理和运动  \\n- 品牌：Fitbit  \\n- 价格：250元  \\n- 库存：15个  \\n\\n如果您需要购买或了解更多信息，可以告诉我，我会为您提供进一步帮助！', refusal=None, role='assistant', annotations=None, audio=None, function_call=None, tool_calls=None)]\n"
     ]
    }
   ],
   "source": [
    "from openai import OpenAI\n",
    "import json\n",
    "\n",
    "\n",
    "def query_by_product_name(product_name):\n",
    "    conn = sqlite3.connect(\"SportsEquipment.db\")\n",
    "    cursor = conn.cursor()\n",
    "\n",
    "    cursor.execute(\n",
    "        \"SELECT * FROM products WHERE product_name LIKE ?\", (f\"%{product_name}%\",)\n",
    "    )\n",
    "\n",
    "    rows = cursor.fetchall()\n",
    "\n",
    "    conn.close()\n",
    "\n",
    "    return rows\n",
    "\n",
    "\n",
    "tools = [\n",
    "    {\n",
    "        \"type\": \"function\",\n",
    "        \"function\": {\n",
    "            \"name\": \"query_by_product_name\",\n",
    "            \"description\": \"Query the database to retrieve a list of products that match or contain the specified product name. This function can be used to assist customers in finding products by name via an online platform or customer support interface.\",\n",
    "            \"parameters\": {\n",
    "                \"type\": \"object\",\n",
    "                \"properties\": {\n",
    "                    \"product_name\": {\n",
    "                        \"type\": \"string\",\n",
    "                        \"description\": \"The name of the product to search for. The search is case-insensitive and allows partial matches.\",\n",
    "                    }\n",
    "                },\n",
    "                \"required\": [\"product_name\"],\n",
    "            },\n",
    "        },\n",
    "    }\n",
    "]\n",
    "\n",
    "available_functions = {\"query_by_product_name\": query_by_product_name}\n",
    "\n",
    "client = OpenAI()\n",
    "\n",
    "MODEL = \"qwen-plus\"\n",
    "\n",
    "messages = []\n",
    "asked = False\n",
    "\n",
    "while True:\n",
    "    if not asked:\n",
    "        prompt = input(\"请提问：\").strip()\n",
    "        if prompt == \"quit\":\n",
    "            break\n",
    "\n",
    "        messages.append({\"role\": \"user\", \"content\": prompt})\n",
    "        asked = True\n",
    "\n",
    "    completion = client.chat.completions.create(\n",
    "        model=MODEL, messages=messages, tools=tools, parallel_tool_calls=True\n",
    "    )\n",
    "\n",
    "    tool_calls = completion.choices[0].message.tool_calls\n",
    "    if tool_calls:\n",
    "        messages.append(completion.choices[0].message)\n",
    "        print(f\"will call {len(tool_calls)} functions\")\n",
    "        for tool_call in tool_calls:\n",
    "            function_name = tool_call.function.name\n",
    "            function_kwargs = json.loads(tool_call.function.arguments)\n",
    "            print(f\"calling function: {function_name}, kwargs: {function_kwargs} ...\")\n",
    "            function_result = available_functions[function_name](**function_kwargs)\n",
    "            print(\"calling function done!\")\n",
    "            function_message = {\n",
    "                \"role\": \"tool\",\n",
    "                \"content\": str(function_result),\n",
    "                \"tool_call_id\": tool_call.id,\n",
    "            }\n",
    "\n",
    "            messages.append(function_message)\n",
    "        continue\n",
    "\n",
    "    print(f\"机器人回答：{completion.choices[0].message.content}\")\n",
    "    messages.append(completion.choices[0].message)\n",
    "    asked = False\n",
    "\n",
    "print(\"=\" * 20)\n",
    "print(f\"messages: {messages}\")"
   ]
  },
  {
   "cell_type": "code",
   "execution_count": 51,
   "id": "d33c29f6",
   "metadata": {},
   "outputs": [
    {
     "data": {
      "text/plain": [
       "[{'role': 'user', 'content': '你们卖什么球、衣服和鞋？'},\n",
       " ChatCompletionMessage(content='', refusal=None, role='assistant', annotations=None, audio=None, function_call=None, tool_calls=[ChatCompletionMessageToolCall(id='call_f0817f6cba4d4f009a36e1', function=Function(arguments='{\"product_name\": \"球\"}', name='query_by_product_name'), type='function', index=0), ChatCompletionMessageToolCall(id='call_1c776e9e4d3f47ca93e338', function=Function(arguments='{\"product_name\": \"衣服\"}', name='query_by_product_name'), type='function', index=1), ChatCompletionMessageToolCall(id='call_856cb54e6f1d462285d65b', function=Function(arguments='{\"product_name\": \"鞋\"}', name='query_by_product_name'), type='function', index=2)]),\n",
       " {'role': 'tool',\n",
       "  'content': \"[('001', '足球', '高品质职业比赛用球，符合国际标准', '圆形，直径22 cm', '职业比赛、学校体育课', '耐克', 120.0, 50), ('002', '羽毛球拍', '轻量级，适合初中级选手，提供优秀的击球感受', '碳纤维材质，重量85 g', '业余比赛、家庭娱乐', '尤尼克斯', 300.0, 30), ('003', '篮球', '室内外可用，耐磨耐用，适合各种天气条件', '皮质，标准7号球', '学校、社区运动场', '斯伯丁', 200.0, 40), ('008', '乒乓球拍套装', '包括两只拍子和三个球，适合家庭娱乐和业余训练', '标准尺寸，拍面防滑处理', '家庭、社区', '双鱼', 160.0, 35)]\",\n",
       "  'tool_call_id': 'call_f0817f6cba4d4f009a36e1'},\n",
       " {'role': 'tool',\n",
       "  'content': '[]',\n",
       "  'tool_call_id': 'call_1c776e9e4d3f47ca93e338'},\n",
       " {'role': 'tool',\n",
       "  'content': \"[('004', '跑步鞋', '适合长距离跑步，舒适透气，提供良好的足弓支撑', '多种尺码，透气网布', '长跑、日常训练', '阿迪达斯', 500.0, 20)]\",\n",
       "  'tool_call_id': 'call_856cb54e6f1d462285d65b'},\n",
       " ChatCompletionMessage(content='我们售卖以下产品：\\n\\n### 球类：\\n1. **足球**  \\n   - 描述：高品质职业比赛用球，符合国际标准  \\n   - 特点：圆形，直径22 cm，适用于职业比赛和学校体育课  \\n   - 品牌：耐克  \\n   - 价格：120元  \\n   - 库存：50个  \\n\\n2. **羽毛球拍**  \\n   - 描述：轻量级，适合初中级选手，提供优秀的击球感受  \\n   - 特点：碳纤维材质，重量85 g，适用于业余比赛和家庭娱乐  \\n   - 品牌：尤尼克斯  \\n   - 价格：300元  \\n   - 库存：30个  \\n\\n3. **篮球**  \\n   - 描述：室内外可用，耐磨耐用，适合各种天气条件  \\n   - 特点：皮质，标准7号球，适用于学校和社区运动场  \\n   - 品牌：斯伯丁  \\n   - 价格：200元  \\n   - 库存：40个  \\n\\n4. **乒乓球拍套装**  \\n   - 描述：包括两只拍子和三个球，适合家庭娱乐和业余训练  \\n   - 特点：标准尺寸，拍面防滑处理，适用于家庭和社区  \\n   - 品牌：双鱼  \\n   - 价格：160元  \\n   - 库存：35套  \\n\\n---\\n\\n### 鞋类：\\n1. **跑步鞋**  \\n   - 描述：适合长距离跑步，舒适透气，提供良好的足弓支撑  \\n   - 特点：多种尺码，透气网布，适用于长跑和日常训练  \\n   - 品牌：阿迪达斯  \\n   - 价格：500元  \\n   - 库存：20双  \\n\\n---\\n\\n### 衣服类：\\n目前暂无衣服相关产品库存。\\n\\n如果您对上述产品感兴趣，可以提供更具体的需求，我会为您提供更多信息！', refusal=None, role='assistant', annotations=None, audio=None, function_call=None, tool_calls=None),\n",
       " {'role': 'user', 'content': '有计步器吗？'},\n",
       " ChatCompletionMessage(content='', refusal=None, role='assistant', annotations=None, audio=None, function_call=None, tool_calls=[ChatCompletionMessageToolCall(id='call_4e1a461445be461fb2f203', function=Function(arguments='{\"product_name\": \"计步器\"}', name='query_by_product_name'), type='function', index=0)]),\n",
       " {'role': 'tool',\n",
       "  'content': \"[('007', '电子计步器', '精确计步，带心率监测功能，蓝牙连接手机应用', '可充电，续航7天', '日常健康管理、运动', 'Fitbit', 250.0, 15)]\",\n",
       "  'tool_call_id': 'call_4e1a461445be461fb2f203'},\n",
       " ChatCompletionMessage(content='我们有以下计步器产品：\\n\\n### 电子计步器  \\n- 描述：精确计步，带心率监测功能，支持蓝牙连接手机应用  \\n- 特点：可充电设计，续航时间长达7天，适用于日常健康管理和运动  \\n- 品牌：Fitbit  \\n- 价格：250元  \\n- 库存：15个  \\n\\n如果您需要购买或了解更多信息，可以告诉我，我会为您提供进一步帮助！', refusal=None, role='assistant', annotations=None, audio=None, function_call=None, tool_calls=None)]"
      ]
     },
     "execution_count": 51,
     "metadata": {},
     "output_type": "execute_result"
    }
   ],
   "source": [
    "messages"
   ]
  },
  {
   "cell_type": "markdown",
   "id": "50bc2607",
   "metadata": {},
   "source": [
    "## 多函数调用\n",
    "\n",
    "如果多个调用间涉及联合调用或先后调用，function calling 就不够用了，要 agent 来。**ReAct**"
   ]
  }
 ],
 "metadata": {
  "kernelspec": {
   "display_name": ".venv",
   "language": "python",
   "name": "python3"
  },
  "language_info": {
   "codemirror_mode": {
    "name": "ipython",
    "version": 3
   },
   "file_extension": ".py",
   "mimetype": "text/x-python",
   "name": "python",
   "nbconvert_exporter": "python",
   "pygments_lexer": "ipython3",
   "version": "3.12.11"
  }
 },
 "nbformat": 4,
 "nbformat_minor": 5
}
