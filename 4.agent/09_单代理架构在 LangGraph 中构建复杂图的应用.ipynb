{
 "cells": [
  {
   "cell_type": "code",
   "execution_count": 1,
   "id": "4092ac78",
   "metadata": {},
   "outputs": [
    {
     "data": {
      "text/plain": [
       "True"
      ]
     },
     "execution_count": 1,
     "metadata": {},
     "output_type": "execute_result"
    }
   ],
   "source": [
    "from dotenv import load_dotenv\n",
    "\n",
    "load_dotenv(override=True)"
   ]
  },
  {
   "cell_type": "code",
   "execution_count": 29,
   "id": "6f0233c0",
   "metadata": {},
   "outputs": [
    {
     "data": {
      "image/png": "[encoded data removed]",
      "text/plain": [
       "<IPython.core.display.Image object>"
      ]
     },
     "metadata": {},
     "output_type": "display_data"
    }
   ],
   "source": [
    "from typing import Literal, TypedDict\n",
    "from langgraph.graph import StateGraph\n",
    "from IPython.display import Image, display\n",
    "\n",
    "\n",
    "class State(TypedDict):\n",
    "    x: int\n",
    "\n",
    "\n",
    "def node_a(state: State):\n",
    "    return {\"x\": state[\"x\"] + 1}\n",
    "\n",
    "\n",
    "def node_b(state: State):\n",
    "    return {\"x\": state[\"x\"] - 2}\n",
    "\n",
    "\n",
    "def node_c(state: State):\n",
    "    return {\"x\": state[\"x\"] + 1}\n",
    "\n",
    "\n",
    "def routing_function(state: State) -> Literal[\"node_b\", \"node_c\"]:\n",
    "    if state[\"x\"] == 10:\n",
    "        return \"node_b\"\n",
    "    else:\n",
    "        return \"node_c\"\n",
    "\n",
    "\n",
    "builder = StateGraph(State)\n",
    "\n",
    "builder.add_node(\"node_a\", node_a)\n",
    "builder.add_node(\"node_b\", node_b)\n",
    "builder.add_node(\"node_c\", node_c)\n",
    "\n",
    "builder.set_entry_point(\"node_a\")\n",
    "\n",
    "# 构建节点之间的边\n",
    "builder.add_conditional_edges(\"node_a\", routing_function)\n",
    "\n",
    "graph = builder.compile()\n",
    "\n",
    "display(Image(graph.get_graph(xray=True).draw_mermaid_png()))"
   ]
  },
  {
   "cell_type": "code",
   "execution_count": 31,
   "id": "d4ea509c",
   "metadata": {},
   "outputs": [
    {
     "data": {
      "image/png": "[encoded data removed]",
      "text/plain": [
       "<IPython.core.display.Image object>"
      ]
     },
     "metadata": {},
     "output_type": "display_data"
    }
   ],
   "source": [
    "from typing import Literal, TypedDict\n",
    "from langgraph.graph import StateGraph\n",
    "from langgraph.graph import StateGraph\n",
    "from IPython.display import Image, display\n",
    "\n",
    "\n",
    "class State(TypedDict):\n",
    "    x: int\n",
    "\n",
    "\n",
    "def node_a(state: State):\n",
    "    return {\"x\": state[\"x\"] + 1}\n",
    "\n",
    "\n",
    "def node_b(state: State):\n",
    "    return {\"x\": state[\"x\"] - 2}\n",
    "\n",
    "\n",
    "def node_c(state: State):\n",
    "    return {\"x\": state[\"x\"] + 1}\n",
    "\n",
    "\n",
    "def routing_function(state: State):\n",
    "    if state[\"x\"] == 10:\n",
    "        return True\n",
    "    else:\n",
    "        return False\n",
    "\n",
    "\n",
    "builder = StateGraph(State)\n",
    "\n",
    "builder.add_node(\"node_a\", node_a)\n",
    "builder.add_node(\"node_b\", node_b)\n",
    "builder.add_node(\"node_c\", node_c)\n",
    "\n",
    "builder.set_entry_point(\"node_a\")\n",
    "\n",
    "# 构建节点之间的边\n",
    "builder.add_conditional_edges(\n",
    "    \"node_a\", routing_function, {True: \"node_b\", False: \"node_c\"}\n",
    ")\n",
    "\n",
    "graph = builder.compile()\n",
    "\n",
    "display(Image(graph.get_graph(xray=True).draw_mermaid_png()))"
   ]
  },
  {
   "cell_type": "markdown",
   "id": "93d1fd0b",
   "metadata": {},
   "source": [
    "# 结构化输出"
   ]
  },
  {
   "cell_type": "code",
   "execution_count": 32,
   "id": "f42f00e1",
   "metadata": {},
   "outputs": [],
   "source": [
    "from langchain_openai import ChatOpenAI\n",
    "\n",
    "llm = ChatOpenAI(model=\"qwen-plus\")"
   ]
  },
  {
   "cell_type": "code",
   "execution_count": null,
   "id": "99131694",
   "metadata": {},
   "outputs": [],
   "source": [
    "# 1. 使用提示工程\n",
    "\n",
    "from langchain_core.prompts import ChatPromptTemplate\n",
    "\n",
    "prompt = ChatPromptTemplate.from_messages(\n",
    "    [(\"system\", \"Answer the query, Wrap the output in `json`\"), (\"human\", \"{query}\")]\n",
    ")\n",
    "\n",
    "chain = prompt | llm"
   ]
  },
  {
   "cell_type": "code",
   "execution_count": 39,
   "id": "f0818c1b",
   "metadata": {},
   "outputs": [
    {
     "name": "stdout",
     "output_type": "stream",
     "text": [
      "{\n",
      "  \"name\": \"bo\",\n",
      "  \"age\": 100,\n",
      "  \"email\": \"abc@123.com\",\n",
      "  \"phone\": \"12343441\"\n",
      "}\n"
     ]
    }
   ],
   "source": [
    "resp = chain.invoke(\n",
    "    {\"query\": \"我叫 bo， 今年 100 岁，邮箱地址是 abc@123.com, 电话是 12343441\"}\n",
    ")\n",
    "print(resp.content)"
   ]
  },
  {
   "cell_type": "code",
   "execution_count": 49,
   "id": "45c2dca2",
   "metadata": {},
   "outputs": [],
   "source": [
    "# 2. 提示工程 + 输出解析器\n",
    "\n",
    "import json\n",
    "import re\n",
    "from langchain_core.messages import AIMessage\n",
    "\n",
    "\n",
    "def extract_json(message: AIMessage) -> list[dict]:\n",
    "    text = message.content\n",
    "\n",
    "    pattern = r\"\\`\\`\\`json(.*?)\\`\\`\\`\"\n",
    "\n",
    "    matches = re.findall(pattern, text, re.DOTALL)\n",
    "\n",
    "    try:\n",
    "        return [json.loads(match.strip()) for match in matches]\n",
    "    except Exception:\n",
    "        raise ValueError(f\"Failed to parse: {message}\")\n",
    "\n",
    "\n",
    "chain = prompt | llm | extract_json"
   ]
  },
  {
   "cell_type": "code",
   "execution_count": 50,
   "id": "f0759a3f",
   "metadata": {},
   "outputs": [
    {
     "name": "stdout",
     "output_type": "stream",
     "text": [
      "[{'name': 'bo', 'age': 100, 'email': 'abc@123.com', 'phone': '12343441'}]\n"
     ]
    }
   ],
   "source": [
    "resp = chain.invoke(\n",
    "    {\"query\": \"我叫 bo， 今年 100 岁，邮箱地址是 abc@123.com, 电话是 12343441\"}\n",
    ")\n",
    "print(resp)"
   ]
  },
  {
   "cell_type": "markdown",
   "id": "4d483f1f",
   "metadata": {},
   "source": [
    "## 3. LangGraph 内置工具，可用 TypedDict、JSON Schema 或 Pydantic"
   ]
  },
  {
   "cell_type": "code",
   "execution_count": 65,
   "id": "81845115",
   "metadata": {},
   "outputs": [],
   "source": [
    "# 3.1 用 Pydantic\n",
    "\n",
    "from pydantic import BaseModel, Field\n",
    "from typing import Optional\n",
    "\n",
    "\n",
    "class UserInfo(BaseModel):\n",
    "    \"\"\"Extracted user information, such as name, age, email, and phone number, if relevant.\"\"\"\n",
    "\n",
    "    name: str = Field(description=\"The name of the user\")\n",
    "    age: Optional[int] = Field(description=\"The age of the user\")\n",
    "    email: str = Field(description=\"The email address of the user\")\n",
    "    phone: Optional[str] = Field(description=\"The phone number of the user\")\n",
    "\n",
    "\n",
    "llm = ChatOpenAI(model=\"deepseek-v3\")\n",
    "\n",
    "structured_llm = llm.with_structured_output(UserInfo)"
   ]
  },
  {
   "cell_type": "code",
   "execution_count": 73,
   "id": "53faadbb",
   "metadata": {},
   "outputs": [
    {
     "name": "stdout",
     "output_type": "stream",
     "text": [
      "{\n",
      "  \"name\": \"bo\",\n",
      "  \"age\": 100,\n",
      "  \"email\": \"abc@123.com\",\n",
      "  \"phone\": \"12343441\"\n",
      "}\n"
     ]
    }
   ],
   "source": [
    "resp = llm.invoke(\n",
    "    \"请以json格式回复，不要包含 '```json``` 这样的 markdown 标记。我叫 bo， 今年 100 岁，邮箱地址是 abc@123.com, 电话是 12343441\"\n",
    ")\n",
    "print(resp.content)"
   ]
  },
  {
   "cell_type": "code",
   "execution_count": 69,
   "id": "ce89960e",
   "metadata": {},
   "outputs": [
    {
     "ename": "ValidationError",
     "evalue": "1 validation error for UserInfo\n  Invalid JSON: expected value at line 1 column 1 [type=json_invalid, input_value='```json\\n{\\n  \"name\": \"b...ne\": \"12343441\"\\n}\\n```', input_type=str]\n    For further information visit https://errors.pydantic.dev/2.11/v/json_invalid",
     "output_type": "error",
     "traceback": [
      "\u001b[31m---------------------------------------------------------------------------\u001b[39m",
      "\u001b[31mValidationError\u001b[39m                           Traceback (most recent call last)",
      "\u001b[36mCell\u001b[39m\u001b[36m \u001b[39m\u001b[32mIn[69]\u001b[39m\u001b[32m, line 1\u001b[39m\n\u001b[32m----> \u001b[39m\u001b[32m1\u001b[39m \u001b[43mUserInfo\u001b[49m\u001b[43m.\u001b[49m\u001b[43mmodel_validate_json\u001b[49m\u001b[43m(\u001b[49m\u001b[43mresp\u001b[49m\u001b[43m.\u001b[49m\u001b[43mcontent\u001b[49m\u001b[43m)\u001b[49m\n",
      "\u001b[36mFile \u001b[39m\u001b[32md:\\Files\\codes\\python_projects\\jiutian-caicai-llm-agent-corse\\.venv\\Lib\\site-packages\\pydantic\\main.py:746\u001b[39m, in \u001b[36mBaseModel.model_validate_json\u001b[39m\u001b[34m(cls, json_data, strict, context, by_alias, by_name)\u001b[39m\n\u001b[32m    740\u001b[39m \u001b[38;5;28;01mif\u001b[39;00m by_alias \u001b[38;5;129;01mis\u001b[39;00m \u001b[38;5;28;01mFalse\u001b[39;00m \u001b[38;5;129;01mand\u001b[39;00m by_name \u001b[38;5;129;01mis\u001b[39;00m \u001b[38;5;129;01mnot\u001b[39;00m \u001b[38;5;28;01mTrue\u001b[39;00m:\n\u001b[32m    741\u001b[39m     \u001b[38;5;28;01mraise\u001b[39;00m PydanticUserError(\n\u001b[32m    742\u001b[39m         \u001b[33m'\u001b[39m\u001b[33mAt least one of `by_alias` or `by_name` must be set to True.\u001b[39m\u001b[33m'\u001b[39m,\n\u001b[32m    743\u001b[39m         code=\u001b[33m'\u001b[39m\u001b[33mvalidate-by-alias-and-name-false\u001b[39m\u001b[33m'\u001b[39m,\n\u001b[32m    744\u001b[39m     )\n\u001b[32m--> \u001b[39m\u001b[32m746\u001b[39m \u001b[38;5;28;01mreturn\u001b[39;00m \u001b[38;5;28;43mcls\u001b[39;49m\u001b[43m.\u001b[49m\u001b[43m__pydantic_validator__\u001b[49m\u001b[43m.\u001b[49m\u001b[43mvalidate_json\u001b[49m\u001b[43m(\u001b[49m\n\u001b[32m    747\u001b[39m \u001b[43m    \u001b[49m\u001b[43mjson_data\u001b[49m\u001b[43m,\u001b[49m\u001b[43m \u001b[49m\u001b[43mstrict\u001b[49m\u001b[43m=\u001b[49m\u001b[43mstrict\u001b[49m\u001b[43m,\u001b[49m\u001b[43m \u001b[49m\u001b[43mcontext\u001b[49m\u001b[43m=\u001b[49m\u001b[43mcontext\u001b[49m\u001b[43m,\u001b[49m\u001b[43m \u001b[49m\u001b[43mby_alias\u001b[49m\u001b[43m=\u001b[49m\u001b[43mby_alias\u001b[49m\u001b[43m,\u001b[49m\u001b[43m \u001b[49m\u001b[43mby_name\u001b[49m\u001b[43m=\u001b[49m\u001b[43mby_name\u001b[49m\n\u001b[32m    748\u001b[39m \u001b[43m\u001b[49m\u001b[43m)\u001b[49m\n",
      "\u001b[31mValidationError\u001b[39m: 1 validation error for UserInfo\n  Invalid JSON: expected value at line 1 column 1 [type=json_invalid, input_value='```json\\n{\\n  \"name\": \"b...ne\": \"12343441\"\\n}\\n```', input_type=str]\n    For further information visit https://errors.pydantic.dev/2.11/v/json_invalid"
     ]
    }
   ],
   "source": [
    "UserInfo.model_validate_json(resp.content)"
   ]
  },
  {
   "cell_type": "code",
   "execution_count": 71,
   "id": "c4b33785",
   "metadata": {},
   "outputs": [
    {
     "name": "stdout",
     "output_type": "stream",
     "text": [
      "name='bo' age=100 email='abc@123.com' phone='12343441'\n"
     ]
    }
   ],
   "source": [
    "resp = structured_llm.invoke(\n",
    "    \"请以json格式回复，不要包含 '```json``` 这样的 markdown 标记。我叫 bo， 今年 100 岁，邮箱地址是 abc@123.com, 电话是 12343441\"\n",
    ")\n",
    "print(resp)"
   ]
  },
  {
   "cell_type": "code",
   "execution_count": 72,
   "id": "03bc0f28",
   "metadata": {},
   "outputs": [
    {
     "data": {
      "text/plain": [
       "UserInfo(name='bo', age=100, email='abc@123.com', phone='12343441')"
      ]
     },
     "execution_count": 72,
     "metadata": {},
     "output_type": "execute_result"
    }
   ],
   "source": [
    "resp"
   ]
  }
 ],
 "metadata": {
  "kernelspec": {
   "display_name": ".venv",
   "language": "python",
   "name": "python3"
  },
  "language_info": {
   "codemirror_mode": {
    "name": "ipython",
    "version": 3
   },
   "file_extension": ".py",
   "mimetype": "text/x-python",
   "name": "python",
   "nbconvert_exporter": "python",
   "pygments_lexer": "ipython3",
   "version": "3.12.11"
  }
 },
 "nbformat": 4,
 "nbformat_minor": 5
}
