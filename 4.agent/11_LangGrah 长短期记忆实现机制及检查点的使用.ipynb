{
 "cells": [
  {
   "cell_type": "code",
   "execution_count": 1,
   "id": "e5475e19",
   "metadata": {},
   "outputs": [
    {
     "data": {
      "text/plain": [
       "True"
      ]
     },
     "execution_count": 1,
     "metadata": {},
     "output_type": "execute_result"
    }
   ],
   "source": [
    "from dotenv import load_dotenv\n",
    "\n",
    "load_dotenv(override=True)"
   ]
  },
  {
   "cell_type": "code",
   "execution_count": 2,
   "id": "0d12d2ca",
   "metadata": {},
   "outputs": [
    {
     "data": {
      "image/png": "[encoded data removed]",
      "text/plain": [
       "<IPython.core.display.Image object>"
      ]
     },
     "metadata": {},
     "output_type": "display_data"
    }
   ],
   "source": [
    "from langchain_community.chat_models.tongyi import ChatTongyi\n",
    "from typing import Annotated\n",
    "from typing_extensions import TypedDict\n",
    "from IPython.display import Image, display\n",
    "from langgraph.graph import StateGraph, MessagesState, START, END\n",
    "from langchain_core.messages import SystemMessage, HumanMessage\n",
    "from langgraph.graph.message import add_messages\n",
    "\n",
    "\n",
    "# 定义大模型实例\n",
    "llm = ChatTongyi(model=\"qwen-max\")\n",
    "\n",
    "\n",
    "# 定义状态模式\n",
    "class State(TypedDict):\n",
    "    messages: Annotated[list, add_messages]\n",
    "\n",
    "\n",
    "# 定义对话节点\n",
    "def call_model(state: State):\n",
    "    response = llm.invoke(state[\"messages\"])\n",
    "    return {\"messages\": response}\n",
    "\n",
    "\n",
    "# 构建状态图\n",
    "builder = StateGraph(State)\n",
    "\n",
    "# 向图中添加节点\n",
    "builder.add_node(\"call_model\", call_model)\n",
    "\n",
    "# 构建边\n",
    "builder.add_edge(START, \"call_model\")\n",
    "builder.add_edge(\"call_model\", END)\n",
    "\n",
    "# 编译图\n",
    "simple_graph = builder.compile()\n",
    "\n",
    "# 可视化\n",
    "display(Image(simple_graph.get_graph().draw_mermaid_png()))"
   ]
  },
  {
   "cell_type": "code",
   "execution_count": 3,
   "id": "ffbae204",
   "metadata": {},
   "outputs": [
    {
     "name": "stdout",
     "output_type": "stream",
     "text": [
      "================================\u001b[1m Human Message \u001b[0m=================================\n",
      "\n",
      "你好，我叫bo\n",
      "==================================\u001b[1m Ai Message \u001b[0m==================================\n",
      "\n",
      "你好，Bo！很高兴认识你。有什么我可以帮助你的吗？\n"
     ]
    }
   ],
   "source": [
    "async for chunk in simple_graph.astream(\n",
    "    input={\"messages\": [\"你好，我叫bo\"]}, stream_mode=\"values\"\n",
    "):\n",
    "    chunk[\"messages\"][-1].pretty_print()"
   ]
  },
  {
   "cell_type": "code",
   "execution_count": 4,
   "id": "b52cc76b",
   "metadata": {},
   "outputs": [
    {
     "data": {
      "image/png": "[encoded data removed]",
      "text/plain": [
       "<IPython.core.display.Image object>"
      ]
     },
     "metadata": {},
     "output_type": "display_data"
    }
   ],
   "source": [
    "import os\n",
    "from langchain_community.chat_models.tongyi import ChatTongyi\n",
    "from typing import Annotated\n",
    "from typing_extensions import TypedDict\n",
    "from IPython.display import Image, display\n",
    "from langgraph.graph import StateGraph, START, END\n",
    "from langgraph.graph.message import add_messages\n",
    "\n",
    "\n",
    "# 定义大模型实例\n",
    "llm = ChatTongyi(model=\"qwen-max\")\n",
    "\n",
    "\n",
    "# 定义状态模式\n",
    "class State(TypedDict):\n",
    "    messages: Annotated[list, add_messages]\n",
    "\n",
    "\n",
    "# 定义大模型交互节点\n",
    "def call_model(state: State):\n",
    "    response = llm.invoke(state[\"messages\"])\n",
    "    return {\"messages\": response}\n",
    "\n",
    "\n",
    "# 定义翻译节点\n",
    "def translate_message(state: State):\n",
    "    system_prompt = \"\"\"\n",
    "    Please translate the received text in any language into English as output\n",
    "    \"\"\"\n",
    "    messages = state[\"messages\"][-1]\n",
    "    messages = [SystemMessage(content=system_prompt)] + [\n",
    "        HumanMessage(content=messages.content)\n",
    "    ]\n",
    "    response = llm.invoke(messages)\n",
    "    return {\"messages\": response}\n",
    "\n",
    "\n",
    "# 构建状态图\n",
    "builder = StateGraph(State)\n",
    "\n",
    "# 向图中添加节点\n",
    "builder.add_node(\"call_model\", call_model)\n",
    "builder.add_node(\"translate_message\", translate_message)\n",
    "\n",
    "# 构建边\n",
    "builder.add_edge(START, \"call_model\")\n",
    "builder.add_edge(\"call_model\", \"translate_message\")\n",
    "builder.add_edge(\"translate_message\", END)\n",
    "\n",
    "# 编译图\n",
    "simple_short_graph = builder.compile()\n",
    "\n",
    "# 生成可视化图像结构\n",
    "display(Image(simple_short_graph.get_graph().draw_mermaid_png()))"
   ]
  },
  {
   "cell_type": "code",
   "execution_count": 5,
   "id": "36a2b379",
   "metadata": {},
   "outputs": [
    {
     "name": "stdout",
     "output_type": "stream",
     "text": [
      "================================\u001b[1m Human Message \u001b[0m=================================\n",
      "\n",
      "你好，我叫木羽\n",
      "==================================\u001b[1m Ai Message \u001b[0m==================================\n",
      "\n",
      "你好，木羽！很高兴认识你。有什么我可以帮助你的吗？或者你想聊些什么？\n",
      "==================================\u001b[1m Ai Message \u001b[0m==================================\n",
      "\n",
      "Hello, Mu Yu! It's nice to meet you. Is there anything I can help you with? Or is there something you'd like to chat about?\n"
     ]
    }
   ],
   "source": [
    "async for chunk in simple_short_graph.astream(\n",
    "    input={\"messages\": [\"你好，我叫木羽\"]}, stream_mode=\"values\"\n",
    "):\n",
    "    message = chunk[\"messages\"][-1].pretty_print()"
   ]
  },
  {
   "cell_type": "code",
   "execution_count": 6,
   "id": "e2d4c193",
   "metadata": {},
   "outputs": [
    {
     "name": "stdout",
     "output_type": "stream",
     "text": [
      "Task id : be27038b-1daf-6042-7c46-1206ab2483e3\n",
      "Message id:faa29039-330d-4a46-a433-aa97df783234, Message content:你好，我叫木羽\n",
      "------------------------------------------------\n",
      "------------------------------------------------\n",
      "Task id : be27038b-1daf-6042-7c46-1206ab2483e3\n",
      "Message id:run--f4bec3ed-cd89-4866-b3f1-af54b1c8d31a-0, Message content:你好，木羽！很高兴认识你。有什么我可以帮助你的吗？\n",
      "------------------------------------------------\n",
      "------------------------------------------------\n",
      "Task id : 0511eeb8-406e-0c9f-868b-0d64c2ed5ddd\n",
      "Message id:faa29039-330d-4a46-a433-aa97df783234, Message content:你好，我叫木羽\n",
      "Message id:run--f4bec3ed-cd89-4866-b3f1-af54b1c8d31a-0, Message content:你好，木羽！很高兴认识你。有什么我可以帮助你的吗？\n",
      "------------------------------------------------\n",
      "------------------------------------------------\n",
      "Task id : 0511eeb8-406e-0c9f-868b-0d64c2ed5ddd\n",
      "Message id:run--7b27eb39-346e-46c2-8483-721358ead69b-0, Message content:Hello, Mu Yu! Nice to meet you. Is there anything I can help you with?\n",
      "------------------------------------------------\n",
      "------------------------------------------------\n"
     ]
    }
   ],
   "source": [
    "async for chunk in simple_short_graph.astream(\n",
    "    {\"messages\": [\"你好，我叫木羽\"]}, stream_mode=\"debug\"\n",
    "):\n",
    "    # print(chunk)\n",
    "    print(f\"Task id : {chunk['payload']['id']}\")\n",
    "    if chunk[\"type\"] == \"task\":\n",
    "        for message in chunk[\"payload\"][\"input\"][\"messages\"]:\n",
    "            print(f\"Message id:{message.id}, Message content:{message.content}\")\n",
    "\n",
    "    if chunk[\"type\"] == \"task_result\":\n",
    "        print(\n",
    "            f\"Message id:{chunk['payload']['result'][0][1].id}, Message content:{chunk['payload']['result'][0][1].content}\"\n",
    "        )  # tuple 类型\n",
    "\n",
    "    print(\"------------------------------------------------\")\n",
    "    print(\"------------------------------------------------\")"
   ]
  },
  {
   "cell_type": "code",
   "execution_count": 8,
   "id": "8cefaf07",
   "metadata": {},
   "outputs": [
    {
     "data": {
      "image/png": "[encoded data removed]",
      "text/plain": [
       "<IPython.core.display.Image object>"
      ]
     },
     "metadata": {},
     "output_type": "display_data"
    }
   ],
   "source": [
    "# MemorySaver\n",
    "\n",
    "from langchain_community.chat_models.tongyi import ChatTongyi\n",
    "from typing import Annotated\n",
    "from typing_extensions import TypedDict\n",
    "from IPython.display import Image, display\n",
    "from langgraph.graph import StateGraph, START, END\n",
    "from langgraph.graph.message import add_messages\n",
    "from langgraph.checkpoint.memory import MemorySaver\n",
    "\n",
    "\n",
    "# 定义大模型实例\n",
    "llm = ChatTongyi(model=\"qwen-plus\")\n",
    "\n",
    "\n",
    "# 定义状态模式\n",
    "class State(TypedDict):\n",
    "    messages: Annotated[list, add_messages]\n",
    "\n",
    "\n",
    "# 定义大模型交互节点\n",
    "def call_model(state: State):\n",
    "    response = llm.invoke(state[\"messages\"])\n",
    "    return {\"messages\": response}\n",
    "\n",
    "\n",
    "# 定义翻译节点\n",
    "def translate_message(state: State):\n",
    "    system_prompt = \"\"\"\n",
    "    Please translate the received text in any language into English as output\n",
    "    \"\"\"\n",
    "    messages = state[\"messages\"][-1]\n",
    "    messages = [SystemMessage(content=system_prompt)] + [\n",
    "        HumanMessage(content=messages.content)\n",
    "    ]\n",
    "    response = llm.invoke(messages)\n",
    "    return {\"messages\": response}\n",
    "\n",
    "\n",
    "# 构建状态图\n",
    "builder = StateGraph(State)\n",
    "\n",
    "# 向图中添加节点\n",
    "builder.add_node(\"call_model\", call_model)\n",
    "builder.add_node(\"translate_message\", translate_message)\n",
    "\n",
    "# 构建边\n",
    "builder.add_edge(START, \"call_model\")\n",
    "builder.add_edge(\"call_model\", \"translate_message\")\n",
    "builder.add_edge(\"translate_message\", END)\n",
    "\n",
    "memory = MemorySaver()\n",
    "\n",
    "# 编译图\n",
    "graph_with_memory = builder.compile(checkpointer=memory)\n",
    "\n",
    "# 生成可视化图像结构\n",
    "display(Image(simple_short_graph.get_graph().draw_mermaid_png()))"
   ]
  },
  {
   "cell_type": "code",
   "execution_count": 9,
   "id": "67468960",
   "metadata": {},
   "outputs": [
    {
     "name": "stdout",
     "output_type": "stream",
     "text": [
      "================================\u001b[1m Human Message \u001b[0m=================================\n",
      "\n",
      "你好，我叫木羽\n",
      "==================================\u001b[1m Ai Message \u001b[0m==================================\n",
      "\n",
      "你好，木羽！有什么我可以帮你的吗？😊\n",
      "==================================\u001b[1m Ai Message \u001b[0m==================================\n",
      "\n",
      "Hello, Muchi! Is there anything I can assist you with? 😊\n"
     ]
    }
   ],
   "source": [
    "config = {\"configurable\": {\"thread_id\": \"1\"}}\n",
    "\n",
    "async for chunk in graph_with_memory.astream(\n",
    "    input={\"messages\": [\"你好，我叫木羽\"]}, stream_mode=\"values\", config=config\n",
    "):\n",
    "    message = chunk[\"messages\"][-1].pretty_print()"
   ]
  },
  {
   "cell_type": "code",
   "execution_count": 10,
   "id": "f75bd2fa",
   "metadata": {},
   "outputs": [
    {
     "name": "stdout",
     "output_type": "stream",
     "text": [
      "================================\u001b[1m Human Message \u001b[0m=================================\n",
      "\n",
      "我叫什么？\n",
      "==================================\u001b[1m Ai Message \u001b[0m==================================\n",
      "\n",
      "你叫木羽。😊\n",
      "\n",
      "You're called Muchi. 😊\n",
      "==================================\u001b[1m Ai Message \u001b[0m==================================\n",
      "\n",
      "Your translation is already in English! However, there seems to be a small inconsistency. If the original name is \"木羽\", the Romanization should be \"Muyu\" rather than \"Muchi\". Here's the corrected version:\n",
      "\n",
      "**You're called Muyu. 😊**\n"
     ]
    }
   ],
   "source": [
    "config = {\"configurable\": {\"thread_id\": \"1\"}}\n",
    "\n",
    "async for chunk in graph_with_memory.astream(\n",
    "    input={\"messages\": [\"我叫什么？\"]}, stream_mode=\"values\", config=config\n",
    "):\n",
    "    message = chunk[\"messages\"][-1].pretty_print()"
   ]
  },
  {
   "cell_type": "code",
   "execution_count": null,
   "id": "8ad25335",
   "metadata": {},
   "outputs": [],
   "source": [
    "# SqliteSaver\n",
    "\n",
    "from langgraph.checkpoint.sqlite import SqliteSaver\n",
    "\n",
    "memory = SqliteSaver.from_conn_string(\":memory:\")"
   ]
  },
  {
   "cell_type": "code",
   "execution_count": 14,
   "id": "72db1fc1",
   "metadata": {},
   "outputs": [],
   "source": [
    "checkpoint_data = {\n",
    "    \"thread_id\": \"muyu123\",\n",
    "    \"thread_ts\": \"2024-10-30T07:23:38.656547+00:00\",\n",
    "    \"checkpoint\": {\n",
    "        \"id\": \"1ef968fe-1eb4-6049-bfff\",\n",
    "    },\n",
    "    \"metadata\": {\"timestamp\": \"2024-10-30T07:23:38.656547+00:00\"},\n",
    "}\n",
    "\n",
    "with SqliteSaver.from_conn_string(\":memory:\") as memory:\n",
    "    saved_config = memory.put(\n",
    "        config={\n",
    "            \"configurable\": {\n",
    "                \"thread_id\": checkpoint_data[\"thread_id\"],\n",
    "                \"thread_ts\": checkpoint_data[\"thread_ts\"],\n",
    "                \"checkpoint_ns\": \"\",\n",
    "            }\n",
    "        },\n",
    "        checkpoint=checkpoint_data[\"checkpoint\"],\n",
    "        metadata=checkpoint_data[\"metadata\"],\n",
    "        new_versions={\"writes\": {\"key\": \"value\"}},\n",
    "    )"
   ]
  },
  {
   "cell_type": "code",
   "execution_count": 15,
   "id": "eb0973cb",
   "metadata": {},
   "outputs": [
    {
     "data": {
      "text/plain": [
       "{'configurable': {'thread_id': 'muyu123',\n",
       "  'checkpoint_ns': '',\n",
       "  'checkpoint_id': '1ef968fe-1eb4-6049-bfff'}}"
      ]
     },
     "execution_count": 15,
     "metadata": {},
     "output_type": "execute_result"
    }
   ],
   "source": [
    "saved_config"
   ]
  },
  {
   "cell_type": "code",
   "execution_count": 16,
   "id": "032270da",
   "metadata": {},
   "outputs": [
    {
     "name": "stdout",
     "output_type": "stream",
     "text": [
      "CheckpointTuple(config={'configurable': {'thread_id': 'muyu123', 'checkpoint_ns': '', 'checkpoint_id': '1ef968fe-1eb4-6049-bfff'}}, checkpoint={'id': '1ef968fe-1eb4-6049-bfff'}, metadata={'timestamp': '2024-10-30T07:23:38.656547+00:00'}, parent_config=None, pending_writes=[])\n"
     ]
    }
   ],
   "source": [
    "with SqliteSaver.from_conn_string(\":memory:\") as memory:\n",
    "    saved_config = memory.put(\n",
    "        config={\n",
    "            \"configurable\": {\n",
    "                \"thread_id\": checkpoint_data[\"thread_id\"],\n",
    "                \"thread_ts\": checkpoint_data[\"thread_ts\"],\n",
    "                \"checkpoint_ns\": \"\",\n",
    "            }\n",
    "        },\n",
    "        checkpoint=checkpoint_data[\"checkpoint\"],\n",
    "        metadata=checkpoint_data[\"metadata\"],\n",
    "        new_versions={\"writes\": {\"key\": \"value\"}},\n",
    "    )\n",
    "\n",
    "    config = {\"configurable\": {\"thread_id\": checkpoint_data[\"thread_id\"]}}\n",
    "\n",
    "    checkpoints = list(memory.list(config))\n",
    "    for checkpoint in checkpoints:\n",
    "        print(checkpoint)"
   ]
  },
  {
   "cell_type": "code",
   "execution_count": 17,
   "id": "ab531799",
   "metadata": {},
   "outputs": [],
   "source": [
    "from langchain_core.tools import tool\n",
    "from pydantic import BaseModel, Field\n",
    "import requests\n",
    "import json\n",
    "\n",
    "\n",
    "class WeatherLoc(BaseModel):\n",
    "    location: str = Field(description=\"The location name of the city\")\n",
    "\n",
    "\n",
    "@tool(args_schema=WeatherLoc)\n",
    "def get_weather(location):\n",
    "    \"\"\"\n",
    "    Function to query current weather.\n",
    "    :param loc: Required parameter, of type string, representing the specific city name for the weather query. \\\n",
    "    Note that for cities in China, the corresponding English city name should be used. For example, to query the weather for Beijing, \\\n",
    "    the loc parameter should be input as 'Beijing'.\n",
    "    :return: The result of the OpenWeather API query for current weather, with the specific URL request address being: https://api.openweathermap.org/data/2.5/weather. \\\n",
    "    The return type is a JSON-formatted object after parsing, represented as a string, containing all important weather information.\n",
    "    \"\"\"\n",
    "    # Step 1.构建请求\n",
    "    url = \"https://api.openweathermap.org/data/2.5/weather\"\n",
    "\n",
    "    # Step 2.设置查询参数\n",
    "    params = {\n",
    "        \"q\": location,\n",
    "        \"appid\": os.environ[\"OPENWEATHER_API_KEY\"],  # 输入API key\n",
    "        \"units\": \"metric\",  # 使用摄氏度而不是华氏度\n",
    "        \"lang\": \"zh_cn\",  # 输出语言为简体中文\n",
    "    }\n",
    "\n",
    "    # Step 3.发送GET请求\n",
    "    response = requests.get(url, params=params)\n",
    "\n",
    "    # Step 4.解析响应\n",
    "    data = response.json()\n",
    "    return json.dumps(data)"
   ]
  },
  {
   "cell_type": "code",
   "execution_count": 19,
   "id": "8ea8c5a5",
   "metadata": {},
   "outputs": [
    {
     "name": "stdout",
     "output_type": "stream",
     "text": [
      "================================\u001b[1m Human Message \u001b[0m=================================\n",
      "\n",
      "你好，我叫 bo\n",
      "==================================\u001b[1m Ai Message \u001b[0m==================================\n",
      "\n",
      "你好，bo！有什么可以帮助你的吗？\n",
      "================================\u001b[1m Human Message \u001b[0m=================================\n",
      "\n",
      "请问我叫什么？\n",
      "==================================\u001b[1m Ai Message \u001b[0m==================================\n",
      "\n",
      "你叫 bo。\n"
     ]
    }
   ],
   "source": [
    "from langgraph.prebuilt import create_react_agent\n",
    "\n",
    "with SqliteSaver.from_conn_string(\":memory:\") as checkpointer:\n",
    "    graph = create_react_agent(llm, tools=[get_weather], checkpointer=checkpointer)\n",
    "\n",
    "    config = {\"configurable\": {\"thread_id\": \"1\"}}\n",
    "\n",
    "    for chunk in graph.stream(\n",
    "        {\"messages\": [\"你好，我叫 bo\"]}, config, stream_mode=\"values\"\n",
    "    ):\n",
    "        chunk[\"messages\"][-1].pretty_print()\n",
    "\n",
    "    for chunk in graph.stream(\n",
    "        {\"messages\": [\"请问我叫什么？\"]}, config, stream_mode=\"values\"\n",
    "    ):\n",
    "        chunk[\"messages\"][-1].pretty_print()"
   ]
  },
  {
   "cell_type": "code",
   "execution_count": 20,
   "id": "7dcd5c13",
   "metadata": {},
   "outputs": [
    {
     "name": "stdout",
     "output_type": "stream",
     "text": [
      "================================\u001b[1m Human Message \u001b[0m=================================\n",
      "\n",
      "你好，我叫 bo\n",
      "==================================\u001b[1m Ai Message \u001b[0m==================================\n",
      "\n",
      "你好，bo！有什么我可以帮你的吗？\n",
      "================================\u001b[1m Human Message \u001b[0m=================================\n",
      "\n",
      "请问我叫什么？\n",
      "==================================\u001b[1m Ai Message \u001b[0m==================================\n",
      "\n",
      "你叫 bo。\n"
     ]
    }
   ],
   "source": [
    "from langgraph.prebuilt import create_react_agent\n",
    "import sqlite3\n",
    "\n",
    "conn = sqlite3.connect(\":memory:\", check_same_thread=False)\n",
    "checkpointer = SqliteSaver(conn)\n",
    "graph = create_react_agent(llm, tools=[get_weather], checkpointer=checkpointer)\n",
    "\n",
    "config = {\"configurable\": {\"thread_id\": \"1\"}}\n",
    "\n",
    "for chunk in graph.stream(\n",
    "    {\"messages\": [\"你好，我叫 bo\"]}, config, stream_mode=\"values\"\n",
    "):\n",
    "    chunk[\"messages\"][-1].pretty_print()\n",
    "\n",
    "for chunk in graph.stream(\n",
    "    {\"messages\": [\"请问我叫什么？\"]}, config, stream_mode=\"values\"\n",
    "):\n",
    "    chunk[\"messages\"][-1].pretty_print()"
   ]
  },
  {
   "cell_type": "markdown",
   "id": "62bcca53",
   "metadata": {},
   "source": [
    "## 长期记忆"
   ]
  },
  {
   "cell_type": "code",
   "execution_count": 21,
   "id": "1e6fa965",
   "metadata": {},
   "outputs": [],
   "source": [
    "import uuid\n",
    "from langgraph.store.memory import InMemoryStore\n",
    "\n",
    "in_memory_store = InMemoryStore()\n",
    "\n",
    "namespace_for_memory = (\"1\", \"memories\")\n",
    "\n",
    "memory_id = str(uuid.uuid4())\n",
    "memory = {\"user\": \"你好，我叫bo\"}\n",
    "\n",
    "in_memory_store.put(namespace_for_memory, memory_id, memory)"
   ]
  },
  {
   "cell_type": "code",
   "execution_count": 22,
   "id": "964b831a",
   "metadata": {},
   "outputs": [
    {
     "data": {
      "text/plain": [
       "[Item(namespace=['1', 'memories'], key='76b03ca4-d2a0-4532-ace7-21ed8940099a', value={'user': '你好，我叫bo'}, created_at='2025-07-29T11:26:35.092960+00:00', updated_at='2025-07-29T11:26:35.092960+00:00', score=None)]"
      ]
     },
     "execution_count": 22,
     "metadata": {},
     "output_type": "execute_result"
    }
   ],
   "source": [
    "in_memory_store.search(namespace_for_memory)"
   ]
  },
  {
   "cell_type": "code",
   "execution_count": 25,
   "id": "dedec25a",
   "metadata": {},
   "outputs": [
    {
     "data": {
      "text/plain": [
       "[Item(namespace=['1', 'memories'], key='76b03ca4-d2a0-4532-ace7-21ed8940099a', value={'user': '你好，我叫bo'}, created_at='2025-07-29T11:26:35.092960+00:00', updated_at='2025-07-29T11:26:35.092960+00:00', score=None)]"
      ]
     },
     "execution_count": 25,
     "metadata": {},
     "output_type": "execute_result"
    }
   ],
   "source": [
    "in_memory_store.search((\"1\",))"
   ]
  },
  {
   "cell_type": "code",
   "execution_count": 30,
   "id": "8669bd8e",
   "metadata": {},
   "outputs": [
    {
     "data": {
      "image/png": "[encoded data removed]",
      "text/plain": [
       "<IPython.core.display.Image object>"
      ]
     },
     "metadata": {},
     "output_type": "display_data"
    }
   ],
   "source": [
    "from langchain_community.chat_models.tongyi import ChatTongyi\n",
    "from typing import Annotated\n",
    "from typing_extensions import TypedDict\n",
    "from IPython.display import Image, display\n",
    "from langgraph.graph import StateGraph, START, END\n",
    "from langgraph.graph.message import add_messages\n",
    "from langchain_core.runnables import RunnableConfig\n",
    "from langgraph.store.base import BaseStore\n",
    "from langgraph.store.memory import InMemoryStore\n",
    "\n",
    "\n",
    "in_memory_store = InMemoryStore()\n",
    "memory = MemorySaver()\n",
    "\n",
    "# 定义大模型实例\n",
    "llm = ChatTongyi(model=\"qwen-plus\")\n",
    "\n",
    "\n",
    "# 定义状态模式\n",
    "class State(TypedDict):\n",
    "    messages: Annotated[list, add_messages]\n",
    "\n",
    "\n",
    "# 定义对话节点， 访问记忆并在模型调用中使用它们。\n",
    "def call_model(state: MessagesState, config: RunnableConfig, *, store: BaseStore):\n",
    "    # 获取用户id\n",
    "    user_id = config[\"configurable\"][\"user_id\"]\n",
    "\n",
    "    # 定义命名空间\n",
    "    namespace = (\"memories\", user_id)\n",
    "\n",
    "    # 根据用户id检索记忆\n",
    "    memories = store.search(namespace)\n",
    "    info = \"\\n\".join([d.value[\"data\"] for d in memories])\n",
    "\n",
    "    # # 存储记忆\n",
    "    last_message = state[\"messages\"][-1]\n",
    "    store.put(namespace, str(uuid.uuid4()), {\"data\": last_message.content})\n",
    "\n",
    "    system_msg = f\"Answer the user's question in context: {info}\"\n",
    "\n",
    "    response = llm.invoke(\n",
    "        [{\"type\": \"system\", \"content\": system_msg}] + state[\"messages\"]\n",
    "    )\n",
    "\n",
    "    # 存储记忆\n",
    "    store.put(namespace, str(uuid.uuid4()), {\"data\": response.content})\n",
    "    return {\"messages\": response}\n",
    "\n",
    "\n",
    "# 构建状态图\n",
    "builder = StateGraph(State)\n",
    "\n",
    "# 向图中添加节点\n",
    "builder.add_node(\"call_model\", call_model)\n",
    "\n",
    "# 构建边\n",
    "builder.add_edge(START, \"call_model\")\n",
    "builder.add_edge(\"call_model\", END)\n",
    "\n",
    "# 编译图\n",
    "graph = builder.compile(checkpointer=memory, store=in_memory_store)\n",
    "\n",
    "# 可视化\n",
    "display(Image(graph.get_graph().draw_mermaid_png()))"
   ]
  },
  {
   "cell_type": "code",
   "execution_count": 31,
   "id": "e6b3ddc6",
   "metadata": {},
   "outputs": [
    {
     "name": "stdout",
     "output_type": "stream",
     "text": [
      "================================\u001b[1m Human Message \u001b[0m=================================\n",
      "\n",
      "你好，我是木羽\n",
      "==================================\u001b[1m Ai Message \u001b[0m==================================\n",
      "\n",
      "你好，木羽！有什么我可以帮你的吗？😊\n"
     ]
    }
   ],
   "source": [
    "config = {\"configurable\": {\"thread_id\": \"10\"}, \"user_id\": \"6\"}\n",
    "\n",
    "async for chunk in graph.astream(\n",
    "    {\"messages\": [\"你好，我是木羽\"]}, config, stream_mode=\"values\"\n",
    "):\n",
    "    chunk[\"messages\"][-1].pretty_print()"
   ]
  },
  {
   "cell_type": "code",
   "execution_count": 32,
   "id": "75f88294",
   "metadata": {},
   "outputs": [
    {
     "name": "stdout",
     "output_type": "stream",
     "text": [
      "================================\u001b[1m Human Message \u001b[0m=================================\n",
      "\n",
      "我叫什么？\n",
      "==================================\u001b[1m Ai Message \u001b[0m==================================\n",
      "\n",
      "你叫木羽呀！👋 我们刚刚才认识呢～有什么问题或者需要帮助的吗？\n"
     ]
    }
   ],
   "source": [
    "config = {\"configurable\": {\"thread_id\": \"10\"}, \"user_id\": \"6\"}\n",
    "\n",
    "async for chunk in graph.astream(\n",
    "    {\"messages\": [\"我叫什么？\"]}, config, stream_mode=\"values\"\n",
    "):\n",
    "    chunk[\"messages\"][-1].pretty_print()"
   ]
  },
  {
   "cell_type": "code",
   "execution_count": 33,
   "id": "df159a18",
   "metadata": {},
   "outputs": [
    {
     "name": "stdout",
     "output_type": "stream",
     "text": [
      "================================\u001b[1m Human Message \u001b[0m=================================\n",
      "\n",
      "我叫什么？\n",
      "==================================\u001b[1m Ai Message \u001b[0m==================================\n",
      "\n",
      "你叫木羽呀！✨ 我们之前已经聊过啦～ 有什么需要我帮忙的吗？😊\n"
     ]
    }
   ],
   "source": [
    "config = {\"configurable\": {\"thread_id\": \"20\"}, \"user_id\": \"6\"}\n",
    "\n",
    "async for chunk in graph.astream(\n",
    "    {\"messages\": [\"我叫什么？\"]}, config, stream_mode=\"values\"\n",
    "):\n",
    "    chunk[\"messages\"][-1].pretty_print()"
   ]
  },
  {
   "cell_type": "code",
   "execution_count": 34,
   "id": "61e65d43",
   "metadata": {},
   "outputs": [
    {
     "name": "stdout",
     "output_type": "stream",
     "text": [
      "================================\u001b[1m Human Message \u001b[0m=================================\n",
      "\n",
      "我叫什么？\n",
      "==================================\u001b[1m Ai Message \u001b[0m==================================\n",
      "\n",
      "您没有告诉我您的名字，所以我无法回答这个问题。如果您愿意分享，我可以帮助您记录或处理与您的名字相关的信息。\n"
     ]
    }
   ],
   "source": [
    "config = {\"configurable\": {\"thread_id\": \"30\"}, \"user_id\": \"8\"}\n",
    "\n",
    "async for chunk in graph.astream(\n",
    "    {\"messages\": [\"我叫什么？\"]}, config, stream_mode=\"values\"\n",
    "):\n",
    "    chunk[\"messages\"][-1].pretty_print()"
   ]
  }
 ],
 "metadata": {
  "kernelspec": {
   "display_name": ".venv",
   "language": "python",
   "name": "python3"
  },
  "language_info": {
   "codemirror_mode": {
    "name": "ipython",
    "version": 3
   },
   "file_extension": ".py",
   "mimetype": "text/x-python",
   "name": "python",
   "nbconvert_exporter": "python",
   "pygments_lexer": "ipython3",
   "version": "3.12.11"
  }
 },
 "nbformat": 4,
 "nbformat_minor": 5
}
